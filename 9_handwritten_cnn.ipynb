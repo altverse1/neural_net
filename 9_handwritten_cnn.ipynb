{
 "cells": [
  {
   "cell_type": "code",
   "execution_count": 1,
   "id": "4de6aef8-8a1b-42b5-a478-3f96629567a0",
   "metadata": {
    "tags": []
   },
   "outputs": [],
   "source": [
    "from sklearn import datasets\n",
    "from sklearn.model_selection import train_test_split\n",
    "from keras.utils import to_categorical\n",
    "from keras.models import Sequential\n",
    "from keras.layers import Conv2D,MaxPooling2D,Flatten,Dense\n",
    "from keras.callbacks import EarlyStopping,ModelCheckpoint\n",
    "import matplotlib.pyplot as plt"
   ]
  },
  {
   "cell_type": "code",
   "execution_count": 2,
   "id": "d490b5e1-a273-4b55-98e1-eb05c58fdc8b",
   "metadata": {
    "tags": []
   },
   "outputs": [],
   "source": [
    "data = datasets.load_digits()\n",
    "x = data.images\n",
    "y = data.target"
   ]
  },
  {
   "cell_type": "code",
   "execution_count": 3,
   "id": "a53da15e-cb17-4b47-a70f-71726819875f",
   "metadata": {
    "tags": []
   },
   "outputs": [],
   "source": [
    "x = x.reshape((x.shape[0], 8 ,8 ,1))\n",
    "x = x.astype('float32')/255\n",
    "y = to_categorical(y)"
   ]
  },
  {
   "cell_type": "code",
   "execution_count": 4,
   "id": "62eb387b-5099-429b-a535-378bcfd4ddb1",
   "metadata": {
    "tags": []
   },
   "outputs": [],
   "source": [
    "x_train, x_test, y_train, y_test = train_test_split(x,y,test_size=0.2, random_state=42)"
   ]
  },
  {
   "cell_type": "code",
   "execution_count": 5,
   "id": "e071aff1-608f-4aea-b035-35de3ae6286a",
   "metadata": {
    "tags": []
   },
   "outputs": [],
   "source": [
    "model=Sequential()\n",
    "model.add((Conv2D(32,kernel_size=(3,3),activation='relu',input_shape=(8,8,1))))\n",
    "model.add(MaxPooling2D(pool_size=(2,2)))\n",
    "model.add(Flatten())\n",
    "model.add(Dense(64,activation='relu'))\n",
    "model.add(Dense(10,activation='softmax'))"
   ]
  },
  {
   "cell_type": "code",
   "execution_count": 6,
   "id": "75a9a297-fd65-4481-b99c-5b3f3b617ec5",
   "metadata": {
    "tags": []
   },
   "outputs": [],
   "source": [
    "model.compile(optimizer='adam',loss='categorical_crossentropy',metrics=['accuracy'])"
   ]
  },
  {
   "cell_type": "code",
   "execution_count": 7,
   "id": "eb7161e5-ba7c-41bd-8746-a78fe1b7da6e",
   "metadata": {
    "tags": []
   },
   "outputs": [],
   "source": [
    "earlystop=EarlyStopping(monitor='val_loss',patience=10)\n",
    "best_weights=ModelCheckpoint('best_weights.h5',save_best_only=True,monitor='val_loss',mode='min')"
   ]
  },
  {
   "cell_type": "code",
   "execution_count": 8,
   "id": "8dd52b46-4bfe-4911-ab5e-62ad6339718a",
   "metadata": {
    "tags": []
   },
   "outputs": [
    {
     "name": "stdout",
     "output_type": "stream",
     "text": [
      "Epoch 1/50\n",
      "45/45 [==============================] - 1s 5ms/step - loss: 2.2884 - accuracy: 0.2136 - val_loss: 2.2701 - val_accuracy: 0.2500\n",
      "Epoch 2/50\n",
      "45/45 [==============================] - 0s 2ms/step - loss: 2.2285 - accuracy: 0.5240 - val_loss: 2.1746 - val_accuracy: 0.6083\n",
      "Epoch 3/50\n",
      " 1/45 [..............................] - ETA: 0s - loss: 2.1784 - accuracy: 0.6562"
     ]
    },
    {
     "name": "stderr",
     "output_type": "stream",
     "text": [
      "C:\\Users\\Student\\AppData\\Roaming\\Python\\Python39\\site-packages\\keras\\src\\engine\\training.py:3000: UserWarning: You are saving your model as an HDF5 file via `model.save()`. This file format is considered legacy. We recommend using instead the native Keras format, e.g. `model.save('my_model.keras')`.\n",
      "  saving_api.save_model(\n"
     ]
    },
    {
     "name": "stdout",
     "output_type": "stream",
     "text": [
      "45/45 [==============================] - 0s 2ms/step - loss: 2.0728 - accuracy: 0.6026 - val_loss: 1.9304 - val_accuracy: 0.7083\n",
      "Epoch 4/50\n",
      "45/45 [==============================] - 0s 2ms/step - loss: 1.7722 - accuracy: 0.7022 - val_loss: 1.5678 - val_accuracy: 0.7972\n",
      "Epoch 5/50\n",
      "45/45 [==============================] - 0s 2ms/step - loss: 1.3994 - accuracy: 0.7808 - val_loss: 1.1934 - val_accuracy: 0.8583\n",
      "Epoch 6/50\n",
      "45/45 [==============================] - 0s 2ms/step - loss: 1.0728 - accuracy: 0.8323 - val_loss: 0.9107 - val_accuracy: 0.8333\n",
      "Epoch 7/50\n",
      "45/45 [==============================] - 0s 2ms/step - loss: 0.8385 - accuracy: 0.8365 - val_loss: 0.7167 - val_accuracy: 0.8556\n",
      "Epoch 8/50\n",
      "45/45 [==============================] - 0s 2ms/step - loss: 0.6867 - accuracy: 0.8594 - val_loss: 0.5921 - val_accuracy: 0.8833\n",
      "Epoch 9/50\n",
      "45/45 [==============================] - 0s 2ms/step - loss: 0.5795 - accuracy: 0.8866 - val_loss: 0.5093 - val_accuracy: 0.8917\n",
      "Epoch 10/50\n",
      "45/45 [==============================] - 0s 2ms/step - loss: 0.5134 - accuracy: 0.8817 - val_loss: 0.4518 - val_accuracy: 0.8972\n",
      "Epoch 11/50\n",
      "45/45 [==============================] - 0s 2ms/step - loss: 0.4608 - accuracy: 0.8935 - val_loss: 0.4160 - val_accuracy: 0.8861\n",
      "Epoch 12/50\n",
      "45/45 [==============================] - 0s 2ms/step - loss: 0.4191 - accuracy: 0.9047 - val_loss: 0.3783 - val_accuracy: 0.9056\n",
      "Epoch 13/50\n",
      "45/45 [==============================] - 0s 2ms/step - loss: 0.3826 - accuracy: 0.9158 - val_loss: 0.3457 - val_accuracy: 0.9111\n",
      "Epoch 14/50\n",
      "45/45 [==============================] - 0s 2ms/step - loss: 0.3539 - accuracy: 0.9235 - val_loss: 0.3254 - val_accuracy: 0.9194\n",
      "Epoch 15/50\n",
      "45/45 [==============================] - 0s 2ms/step - loss: 0.3301 - accuracy: 0.9269 - val_loss: 0.3090 - val_accuracy: 0.9139\n",
      "Epoch 16/50\n",
      "45/45 [==============================] - 0s 2ms/step - loss: 0.3098 - accuracy: 0.9200 - val_loss: 0.2904 - val_accuracy: 0.9194\n",
      "Epoch 17/50\n",
      "45/45 [==============================] - 0s 2ms/step - loss: 0.2946 - accuracy: 0.9276 - val_loss: 0.2724 - val_accuracy: 0.9361\n",
      "Epoch 18/50\n",
      "45/45 [==============================] - 0s 2ms/step - loss: 0.2821 - accuracy: 0.9276 - val_loss: 0.2786 - val_accuracy: 0.9083\n",
      "Epoch 19/50\n",
      "45/45 [==============================] - 0s 2ms/step - loss: 0.2686 - accuracy: 0.9367 - val_loss: 0.2469 - val_accuracy: 0.9306\n",
      "Epoch 20/50\n",
      "45/45 [==============================] - 0s 2ms/step - loss: 0.2546 - accuracy: 0.9332 - val_loss: 0.2435 - val_accuracy: 0.9167\n",
      "Epoch 21/50\n",
      "45/45 [==============================] - 0s 2ms/step - loss: 0.2406 - accuracy: 0.9429 - val_loss: 0.2232 - val_accuracy: 0.9361\n",
      "Epoch 22/50\n",
      "45/45 [==============================] - 0s 2ms/step - loss: 0.2272 - accuracy: 0.9443 - val_loss: 0.2177 - val_accuracy: 0.9389\n",
      "Epoch 23/50\n",
      "45/45 [==============================] - 0s 2ms/step - loss: 0.2186 - accuracy: 0.9443 - val_loss: 0.2117 - val_accuracy: 0.9361\n",
      "Epoch 24/50\n",
      "45/45 [==============================] - 0s 2ms/step - loss: 0.2098 - accuracy: 0.9457 - val_loss: 0.2035 - val_accuracy: 0.9417\n",
      "Epoch 25/50\n",
      "45/45 [==============================] - 0s 2ms/step - loss: 0.2008 - accuracy: 0.9450 - val_loss: 0.2023 - val_accuracy: 0.9361\n",
      "Epoch 26/50\n",
      "45/45 [==============================] - 0s 2ms/step - loss: 0.1955 - accuracy: 0.9513 - val_loss: 0.1923 - val_accuracy: 0.9444\n",
      "Epoch 27/50\n",
      "45/45 [==============================] - 0s 2ms/step - loss: 0.1873 - accuracy: 0.9492 - val_loss: 0.1851 - val_accuracy: 0.9472\n",
      "Epoch 28/50\n",
      "45/45 [==============================] - 0s 2ms/step - loss: 0.1825 - accuracy: 0.9527 - val_loss: 0.1848 - val_accuracy: 0.9444\n",
      "Epoch 29/50\n",
      "45/45 [==============================] - 0s 2ms/step - loss: 0.1782 - accuracy: 0.9534 - val_loss: 0.1784 - val_accuracy: 0.9500\n",
      "Epoch 30/50\n",
      "45/45 [==============================] - 0s 2ms/step - loss: 0.1718 - accuracy: 0.9596 - val_loss: 0.1744 - val_accuracy: 0.9528\n",
      "Epoch 31/50\n",
      "45/45 [==============================] - 0s 2ms/step - loss: 0.1637 - accuracy: 0.9555 - val_loss: 0.1640 - val_accuracy: 0.9611\n",
      "Epoch 32/50\n",
      "45/45 [==============================] - 0s 2ms/step - loss: 0.1627 - accuracy: 0.9576 - val_loss: 0.1704 - val_accuracy: 0.9472\n",
      "Epoch 33/50\n",
      "45/45 [==============================] - 0s 2ms/step - loss: 0.1606 - accuracy: 0.9576 - val_loss: 0.1675 - val_accuracy: 0.9556\n",
      "Epoch 34/50\n",
      "45/45 [==============================] - 0s 2ms/step - loss: 0.1524 - accuracy: 0.9610 - val_loss: 0.1564 - val_accuracy: 0.9611\n",
      "Epoch 35/50\n",
      "45/45 [==============================] - 0s 2ms/step - loss: 0.1430 - accuracy: 0.9645 - val_loss: 0.1667 - val_accuracy: 0.9417\n",
      "Epoch 36/50\n",
      "45/45 [==============================] - 0s 2ms/step - loss: 0.1441 - accuracy: 0.9610 - val_loss: 0.1463 - val_accuracy: 0.9611\n",
      "Epoch 37/50\n",
      "45/45 [==============================] - 0s 2ms/step - loss: 0.1377 - accuracy: 0.9617 - val_loss: 0.1476 - val_accuracy: 0.9556\n",
      "Epoch 38/50\n",
      "45/45 [==============================] - 0s 2ms/step - loss: 0.1348 - accuracy: 0.9638 - val_loss: 0.1523 - val_accuracy: 0.9500\n",
      "Epoch 39/50\n",
      "45/45 [==============================] - 0s 2ms/step - loss: 0.1290 - accuracy: 0.9666 - val_loss: 0.1424 - val_accuracy: 0.9611\n",
      "Epoch 40/50\n",
      "45/45 [==============================] - 0s 2ms/step - loss: 0.1262 - accuracy: 0.9680 - val_loss: 0.1392 - val_accuracy: 0.9667\n",
      "Epoch 41/50\n",
      "45/45 [==============================] - 0s 2ms/step - loss: 0.1232 - accuracy: 0.9715 - val_loss: 0.1386 - val_accuracy: 0.9583\n",
      "Epoch 42/50\n",
      "45/45 [==============================] - 0s 2ms/step - loss: 0.1211 - accuracy: 0.9645 - val_loss: 0.1350 - val_accuracy: 0.9583\n",
      "Epoch 43/50\n",
      "45/45 [==============================] - 0s 2ms/step - loss: 0.1197 - accuracy: 0.9680 - val_loss: 0.1386 - val_accuracy: 0.9556\n",
      "Epoch 44/50\n",
      "45/45 [==============================] - 0s 2ms/step - loss: 0.1172 - accuracy: 0.9687 - val_loss: 0.1386 - val_accuracy: 0.9500\n",
      "Epoch 45/50\n",
      "45/45 [==============================] - 0s 2ms/step - loss: 0.1128 - accuracy: 0.9708 - val_loss: 0.1348 - val_accuracy: 0.9556\n",
      "Epoch 46/50\n",
      "45/45 [==============================] - 0s 2ms/step - loss: 0.1098 - accuracy: 0.9736 - val_loss: 0.1310 - val_accuracy: 0.9556\n",
      "Epoch 47/50\n",
      "45/45 [==============================] - 0s 2ms/step - loss: 0.1021 - accuracy: 0.9715 - val_loss: 0.1267 - val_accuracy: 0.9583\n",
      "Epoch 48/50\n",
      "45/45 [==============================] - 0s 2ms/step - loss: 0.1043 - accuracy: 0.9729 - val_loss: 0.1256 - val_accuracy: 0.9639\n",
      "Epoch 49/50\n",
      "45/45 [==============================] - 0s 2ms/step - loss: 0.1001 - accuracy: 0.9729 - val_loss: 0.1224 - val_accuracy: 0.9667\n",
      "Epoch 50/50\n",
      "45/45 [==============================] - 0s 2ms/step - loss: 0.0979 - accuracy: 0.9749 - val_loss: 0.1299 - val_accuracy: 0.9639\n"
     ]
    }
   ],
   "source": [
    "history=model.fit(x_train,y_train,epochs=50,batch_size=32,validation_data=(x_test,y_test),\n",
    "                  callbacks=[earlystop,best_weights])"
   ]
  },
  {
   "cell_type": "code",
   "execution_count": 9,
   "id": "79f839ab-370c-4644-9d8f-bca03dc1abe2",
   "metadata": {
    "tags": []
   },
   "outputs": [
    {
     "data": {
      "image/png": "[encoded data removed]",
      "text/plain": [
       "<Figure size 640x480 with 1 Axes>"
      ]
     },
     "metadata": {},
     "output_type": "display_data"
    },
    {
     "data": {
      "image/png": "[encoded data removed]",
      "text/plain": [
       "<Figure size 640x480 with 1 Axes>"
      ]
     },
     "metadata": {},
     "output_type": "display_data"
    }
   ],
   "source": [
    "plt.plot(history.history['val_loss'])\n",
    "plt.title(\"Validation loss\")\n",
    "plt.ylabel('loss')\n",
    "plt.xlabel('epoch')\n",
    "plt.show()\n",
    "\n",
    "plt.plot(history.history['val_accuracy'])\n",
    "plt.title(\"Validation accuracy\")\n",
    "plt.ylabel('Accuracy')\n",
    "plt.xlabel('Epoch')\n",
    "plt.show()"
   ]
  },
  {
   "cell_type": "code",
   "execution_count": 10,
   "id": "27265067-18a3-44e3-8512-2a786f0034a3",
   "metadata": {
    "tags": []
   },
   "outputs": [],
   "source": [
    "model.load_weights(\"best_weights.h5\")"
   ]
  },
  {
   "cell_type": "code",
   "execution_count": 11,
   "id": "a4906936-4d55-4d71-a228-466bf2054072",
   "metadata": {
    "tags": []
   },
   "outputs": [
    {
     "name": "stdout",
     "output_type": "stream",
     "text": [
      "Test Loss: 0.12236715853214264\n",
      "Test Accuracy: 0.9666666388511658\n"
     ]
    }
   ],
   "source": [
    "test_loss,test_acc=model.evaluate(x_test,y_test,verbose=0)\n",
    "print(\"Test Loss:\",test_loss)\n",
    "print(\"Test Accuracy:\",test_acc)"
   ]
  },
  {
   "cell_type": "code",
   "execution_count": null,
   "id": "da216ce1-a8cc-4b7e-9ba4-d27633d6f125",
   "metadata": {},
   "outputs": [],
   "source": []
  }
 ],
 "metadata": {
  "kernelspec": {
   "display_name": "Python 3 (ipykernel)",
   "language": "python",
   "name": "python3"
  },
  "language_info": {
   "codemirror_mode": {
    "name": "ipython",
    "version": 3
   },
   "file_extension": ".py",
   "mimetype": "text/x-python",
   "name": "python",
   "nbconvert_exporter": "python",
   "pygments_lexer": "ipython3",
   "version": "3.9.18"
  }
 },
 "nbformat": 4,
 "nbformat_minor": 5
}
