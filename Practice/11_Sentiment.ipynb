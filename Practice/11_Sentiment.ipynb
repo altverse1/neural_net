{
 "cells": [
  {
   "cell_type": "markdown",
   "id": "423b31e1-0572-4cdc-b3f3-4c1a7549a188",
   "metadata": {},
   "source": [
    "# Sentimental analysis using LSTM"
   ]
  },
  {
   "cell_type": "code",
   "execution_count": 1,
   "id": "377bb644-3b68-4469-895e-1365ceced8df",
   "metadata": {
    "tags": []
   },
   "outputs": [],
   "source": [
    "import pandas as pd\n",
    "import numpy as np\n",
    "import tensorflow as tf\n",
    "from tensorflow import keras\n",
    "from keras.layers import LSTM, Dense, Embedding\n",
    "from keras.models import Sequential\n",
    "from keras.preprocessing.text import Tokenizer\n",
    "from tensorflow.keras.preprocessing.sequence import pad_sequences"
   ]
  },
  {
   "cell_type": "code",
   "execution_count": 2,
   "id": "f0f66498-b757-4655-a76f-08808370e03c",
   "metadata": {
    "tags": []
   },
   "outputs": [
    {
     "data": {
      "text/html": [
       "<div>\n",
       "<style scoped>\n",
       "    .dataframe tbody tr th:only-of-type {\n",
       "        vertical-align: middle;\n",
       "    }\n",
       "\n",
       "    .dataframe tbody tr th {\n",
       "        vertical-align: top;\n",
       "    }\n",
       "\n",
       "    .dataframe thead th {\n",
       "        text-align: right;\n",
       "    }\n",
       "</style>\n",
       "<table border=\"1\" class=\"dataframe\">\n",
       "  <thead>\n",
       "    <tr style=\"text-align: right;\">\n",
       "      <th></th>\n",
       "      <th>text</th>\n",
       "      <th>label</th>\n",
       "    </tr>\n",
       "  </thead>\n",
       "  <tbody>\n",
       "    <tr>\n",
       "      <th>0</th>\n",
       "      <td>I grew up (b. 1965) watching and loving the Th...</td>\n",
       "      <td>0</td>\n",
       "    </tr>\n",
       "    <tr>\n",
       "      <th>1</th>\n",
       "      <td>When I put this movie in my DVD player, and sa...</td>\n",
       "      <td>0</td>\n",
       "    </tr>\n",
       "    <tr>\n",
       "      <th>2</th>\n",
       "      <td>Why do people who do not know what a particula...</td>\n",
       "      <td>0</td>\n",
       "    </tr>\n",
       "    <tr>\n",
       "      <th>3</th>\n",
       "      <td>Even though I have great interest in Biblical ...</td>\n",
       "      <td>0</td>\n",
       "    </tr>\n",
       "    <tr>\n",
       "      <th>4</th>\n",
       "      <td>Im a die hard Dads Army fan and nothing will e...</td>\n",
       "      <td>1</td>\n",
       "    </tr>\n",
       "  </tbody>\n",
       "</table>\n",
       "</div>"
      ],
      "text/plain": [
       "                                                text  label\n",
       "0  I grew up (b. 1965) watching and loving the Th...      0\n",
       "1  When I put this movie in my DVD player, and sa...      0\n",
       "2  Why do people who do not know what a particula...      0\n",
       "3  Even though I have great interest in Biblical ...      0\n",
       "4  Im a die hard Dads Army fan and nothing will e...      1"
      ]
     },
     "execution_count": 2,
     "metadata": {},
     "output_type": "execute_result"
    }
   ],
   "source": [
    "df = pd.read_csv('./datasets/Sentimental Analysis.csv')\n",
    "df.head()"
   ]
  },
  {
   "cell_type": "code",
   "execution_count": 3,
   "id": "ac6af40c-f960-42dd-a21a-37abab5294fd",
   "metadata": {
    "tags": []
   },
   "outputs": [
    {
     "data": {
      "text/plain": [
       "(40000, 2)"
      ]
     },
     "execution_count": 3,
     "metadata": {},
     "output_type": "execute_result"
    }
   ],
   "source": [
    "df.shape"
   ]
  },
  {
   "cell_type": "code",
   "execution_count": 4,
   "id": "20794685-4a9d-4362-af41-c48ae34c3db9",
   "metadata": {
    "tags": []
   },
   "outputs": [],
   "source": [
    "text = df.iloc[:5000,0]\n",
    "label = df.iloc[:5000,1]"
   ]
  },
  {
   "cell_type": "code",
   "execution_count": 5,
   "id": "aa7ce58c-11d8-43fc-94cd-a31332313c87",
   "metadata": {
    "tags": []
   },
   "outputs": [],
   "source": [
    "tknizr = Tokenizer()\n",
    "tknizr.fit_on_texts(text)\n",
    "seq = tknizr.texts_to_sequences(text)\n",
    "data = pad_sequences(seq) #To ensure all the sequences are of same length we pad them"
   ]
  },
  {
   "cell_type": "code",
   "execution_count": 6,
   "id": "ffd5a81a-8bf2-4710-89c4-e57b47ba9221",
   "metadata": {
    "tags": []
   },
   "outputs": [],
   "source": [
    "from sklearn.model_selection import train_test_split as tts\n",
    "x_train, x_test, y_train, y_test = tts(data, label, test_size=0.25, random_state=42)"
   ]
  },
  {
   "cell_type": "code",
   "execution_count": 7,
   "id": "c10e88c0-c659-4a81-945b-e4f13d6c82c9",
   "metadata": {
    "tags": []
   },
   "outputs": [
    {
     "data": {
      "text/plain": [
       "(3750, 1336)"
      ]
     },
     "execution_count": 7,
     "metadata": {},
     "output_type": "execute_result"
    }
   ],
   "source": [
    "x_train.shape"
   ]
  },
  {
   "cell_type": "code",
   "execution_count": 8,
   "id": "0f553ff0-1635-48e6-a507-ee348d1ca898",
   "metadata": {
    "tags": []
   },
   "outputs": [
    {
     "name": "stdout",
     "output_type": "stream",
     "text": [
      "118/118 [==============================] - 92s 755ms/step - loss: 0.6458 - accuracy: 0.6323 - val_loss: 0.4732 - val_accuracy: 0.8032\n"
     ]
    },
    {
     "data": {
      "text/plain": [
       "<keras.callbacks.History at 0x263fa096ef0>"
      ]
     },
     "execution_count": 8,
     "metadata": {},
     "output_type": "execute_result"
    }
   ],
   "source": [
    "model = Sequential([\n",
    "    Embedding(input_dim=len(tknizr.word_index)+1, input_length=data.shape[1], output_dim=32),\n",
    "    LSTM(64),\n",
    "    Dense(1, activation='sigmoid')\n",
    "])\n",
    "\n",
    "model.compile(optimizer='adam', loss='binary_crossentropy', metrics=['accuracy'])\n",
    "\n",
    "y_train = np.asarray(y_train, dtype=float)\n",
    "y_test = np.asarray(y_test, dtype=float)\n",
    "\n",
    "model.fit(x_train, y_train, validation_data=(x_test, y_test), epochs=1)\n"
   ]
  },
  {
   "cell_type": "code",
   "execution_count": 11,
   "id": "0c3766b3-2b9b-4227-8303-b9c56c7b371b",
   "metadata": {
    "tags": []
   },
   "outputs": [
    {
     "name": "stdout",
     "output_type": "stream",
     "text": [
      "WARNING:tensorflow:Model was constructed with shape (None, 1336) for input KerasTensor(type_spec=TensorSpec(shape=(None, 1336), dtype=tf.float32, name='embedding_input'), name='embedding_input', description=\"created by layer 'embedding_input'\"), but it was called on an input with incompatible shape (None, 1).\n",
      "1/1 [==============================] - 1s 650ms/step\n"
     ]
    }
   ],
   "source": [
    "new_text = \"I hate this city\"\n",
    "new_seq = tknizr.texts_to_sequences(new_text)\n",
    "new_data = pad_sequences(new_seq)\n",
    "\n",
    "pred = model.predict(new_data)"
   ]
  },
  {
   "cell_type": "code",
   "execution_count": 12,
   "id": "cf78c643-8b73-4217-8378-21b35878ed84",
   "metadata": {
    "tags": []
   },
   "outputs": [
    {
     "data": {
      "text/plain": [
       "array([[0.49554548],\n",
       "       [0.51352435],\n",
       "       [0.5171258 ],\n",
       "       [0.50780153],\n",
       "       [0.48519838],\n",
       "       [0.48921096],\n",
       "       [0.51352435],\n",
       "       [0.48519838],\n",
       "       [0.5171258 ],\n",
       "       [0.49554548],\n",
       "       [0.49010578],\n",
       "       [0.51352435],\n",
       "       [0.49591178],\n",
       "       [0.49554548],\n",
       "       [0.48519838],\n",
       "       [0.496672  ]], dtype=float32)"
      ]
     },
     "execution_count": 12,
     "metadata": {},
     "output_type": "execute_result"
    }
   ],
   "source": [
    "pred"
   ]
  },
  {
   "cell_type": "code",
   "execution_count": null,
   "id": "fecab19e-cb37-4804-a90c-1bdf0c9900a5",
   "metadata": {},
   "outputs": [],
   "source": []
  }
 ],
 "metadata": {
  "kernelspec": {
   "display_name": "Python 3 (ipykernel)",
   "language": "python",
   "name": "python3"
  },
  "language_info": {
   "codemirror_mode": {
    "name": "ipython",
    "version": 3
   },
   "file_extension": ".py",
   "mimetype": "text/x-python",
   "name": "python",
   "nbconvert_exporter": "python",
   "pygments_lexer": "ipython3",
   "version": "3.10.13"
  }
 },
 "nbformat": 4,
 "nbformat_minor": 5
}
