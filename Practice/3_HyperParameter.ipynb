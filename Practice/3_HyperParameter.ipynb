{
 "cells": [
  {
   "cell_type": "markdown",
   "id": "005dfea1-4bab-46a9-82d6-ca8e43d45e5a",
   "metadata": {},
   "source": [
    "# Hyperparameter tuning model using Keras-hyperparameter tuning"
   ]
  },
  {
   "cell_type": "code",
   "execution_count": 1,
   "id": "8e352c5e-3ac6-492d-b758-1bff347d4ee9",
   "metadata": {
    "tags": []
   },
   "outputs": [],
   "source": [
    "import pandas as pd\n",
    "import numpy as np"
   ]
  },
  {
   "cell_type": "code",
   "execution_count": 2,
   "id": "faab3e31-08cf-4f04-9da2-466a0209d687",
   "metadata": {
    "tags": []
   },
   "outputs": [
    {
     "name": "stdout",
     "output_type": "stream",
     "text": [
      "<class 'pandas.core.frame.DataFrame'>\n",
      "RangeIndex: 1093 entries, 0 to 1092\n",
      "Data columns (total 9 columns):\n",
      " #   Column  Non-Null Count  Dtype  \n",
      "---  ------  --------------  -----  \n",
      " 0   T       1093 non-null   float64\n",
      " 1   TM      1093 non-null   float64\n",
      " 2   Tm      1093 non-null   float64\n",
      " 3   SLP     1093 non-null   float64\n",
      " 4   H       1093 non-null   float64\n",
      " 5   VV      1093 non-null   float64\n",
      " 6   V       1093 non-null   float64\n",
      " 7   VM      1093 non-null   float64\n",
      " 8   PM 2.5  1092 non-null   float64\n",
      "dtypes: float64(9)\n",
      "memory usage: 77.0 KB\n"
     ]
    }
   ],
   "source": [
    "df = pd.read_csv('./datasets/Real_Combine.csv')\n",
    "df.info()"
   ]
  },
  {
   "cell_type": "code",
   "execution_count": 5,
   "id": "64a157f1-fe51-47d8-8108-de2b28ed331e",
   "metadata": {
    "tags": []
   },
   "outputs": [],
   "source": [
    "df = df.dropna()"
   ]
  },
  {
   "cell_type": "code",
   "execution_count": 6,
   "id": "520c2f8d-110b-4547-a45e-4439de6c6a1b",
   "metadata": {
    "tags": []
   },
   "outputs": [],
   "source": [
    "from sklearn.model_selection import train_test_split as tts\n",
    "x = df.iloc[:, 0:8]\n",
    "y = df.iloc[:, 8]\n",
    "x_train, x_test, y_train, y_test = tts(x, y, test_size=0.25, random_state=42)"
   ]
  },
  {
   "cell_type": "code",
   "execution_count": 7,
   "id": "6f43c04d-0081-4d9a-b2a8-293bba7a877a",
   "metadata": {
    "tags": []
   },
   "outputs": [],
   "source": [
    "import tensorflow as tf\n",
    "from tensorflow import keras\n",
    "from keras.layers import Dense\n",
    "from keras.models import Sequential\n",
    "from keras_tuner import RandomSearch\n",
    "from keras.optimizers import Adam"
   ]
  },
  {
   "cell_type": "code",
   "execution_count": 15,
   "id": "7ad1d68b-7af1-4654-a485-da6579874356",
   "metadata": {
    "tags": []
   },
   "outputs": [],
   "source": [
    "def hyper_tune(param):\n",
    "    model = Sequential()\n",
    "    for i in range(param.Int('num_layers', 2, 20)):\n",
    "        model.add(Dense(units=param.Int('Unit'+str(i), 32, 512, 32), activation='tanh'))\n",
    "    model.add(Dense(1, activation='linear'))\n",
    "    \n",
    "    model.compile(optimizer=Adam(param.Choice('learning_rate', [0.001, 0.002, 0.003])), \n",
    "                  loss='mean_absolute_error', \n",
    "                  metrics=['mean_absolute_error'])\n",
    "    return model"
   ]
  },
  {
   "cell_type": "code",
   "execution_count": 16,
   "id": "7cabc15d-59a2-458e-9187-42a699315c67",
   "metadata": {
    "tags": []
   },
   "outputs": [],
   "source": [
    "tuner = RandomSearch(\n",
    "    hypermodel=hyper_tune,\n",
    "    objective='val_mean_absolute_error',\n",
    "    max_trials = 5,\n",
    "    directory = 'project',\n",
    "    overwrite = True,\n",
    "    project_name = 'AQI'    \n",
    ")"
   ]
  },
  {
   "cell_type": "code",
   "execution_count": 17,
   "id": "03e55549-cb7c-4d5d-9da3-849f4a9739fe",
   "metadata": {
    "tags": []
   },
   "outputs": [],
   "source": [
    "from sklearn.model_selection import train_test_split as tts\n",
    "\n",
    "x_train, x_test, y_train, y_test = tts(x, y, test_size=0.25, random_state=42)\n"
   ]
  },
  {
   "cell_type": "code",
   "execution_count": 18,
   "id": "214705df-91c4-4916-9dcf-956d8e2f2287",
   "metadata": {
    "tags": []
   },
   "outputs": [
    {
     "name": "stdout",
     "output_type": "stream",
     "text": [
      "Trial 5 Complete [00h 00m 02s]\n",
      "val_mean_absolute_error: 63.65956115722656\n",
      "\n",
      "Best val_mean_absolute_error So Far: 62.59090805053711\n",
      "Total elapsed time: 00h 00m 13s\n"
     ]
    }
   ],
   "source": [
    "tuner.search(x_train, y_train, epochs = 5, validation_data = (x_test, y_test))"
   ]
  },
  {
   "cell_type": "code",
   "execution_count": 19,
   "id": "55d31dd6-1742-478d-9690-01c267ff0601",
   "metadata": {
    "tags": []
   },
   "outputs": [
    {
     "name": "stdout",
     "output_type": "stream",
     "text": [
      "Epoch 1/5\n",
      "26/26 [==============================] - 1s 13ms/step - loss: 80.3741 - mean_absolute_error: 80.3741 - val_loss: 67.0035 - val_mean_absolute_error: 67.0035\n",
      "Epoch 2/5\n",
      "26/26 [==============================] - 0s 4ms/step - loss: 68.2193 - mean_absolute_error: 68.2193 - val_loss: 63.0253 - val_mean_absolute_error: 63.0253\n",
      "Epoch 3/5\n",
      "26/26 [==============================] - 0s 4ms/step - loss: 67.2649 - mean_absolute_error: 67.2649 - val_loss: 62.5807 - val_mean_absolute_error: 62.5807\n",
      "Epoch 4/5\n",
      "26/26 [==============================] - 0s 4ms/step - loss: 67.0570 - mean_absolute_error: 67.0570 - val_loss: 62.7297 - val_mean_absolute_error: 62.7297\n",
      "Epoch 5/5\n",
      "26/26 [==============================] - 0s 4ms/step - loss: 67.1545 - mean_absolute_error: 67.1545 - val_loss: 62.6627 - val_mean_absolute_error: 62.6627\n"
     ]
    }
   ],
   "source": [
    "import matplotlib.pyplot as plt\n",
    "%matplotlib inline\n",
    "\n",
    "best_hp = tuner.get_best_hyperparameters(1)[0]\n",
    "model = hyper_tune(best_hp)\n",
    "history = model.fit(x_train, y_train, epochs = 5, validation_data=(x_test, y_test))"
   ]
  },
  {
   "cell_type": "code",
   "execution_count": 20,
   "id": "77b38ace-839c-4840-9459-48414c09d977",
   "metadata": {
    "tags": []
   },
   "outputs": [],
   "source": [
    "loss = history.history['loss'] \n",
    "mae = history.history['mean_absolute_error']\n",
    "val_loss = history.history['val_loss']\n",
    "val_mae = history.history['val_mean_absolute_error']"
   ]
  },
  {
   "cell_type": "code",
   "execution_count": 21,
   "id": "6cfb7bc0-6bbf-409c-92c2-854ee2321317",
   "metadata": {
    "tags": []
   },
   "outputs": [
    {
     "data": {
      "text/plain": [
       "[]"
      ]
     },
     "execution_count": 21,
     "metadata": {},
     "output_type": "execute_result"
    },
    {
     "data": {
      "image/png": "[encoded data removed]",
      "text/plain": [
       "<Figure size 640x480 with 1 Axes>"
      ]
     },
     "metadata": {},
     "output_type": "display_data"
    }
   ],
   "source": [
    "plt.plot(loss)\n",
    "plt.plot(val_loss)\n",
    "plt.title(\"Loss Plot\")\n",
    "plt.xlabel(\"Epochs\")\n",
    "plt.ylabel(\"Losses\")\n",
    "plt.legend([\"Train\", \"Test\"])\n",
    "plt.plot()"
   ]
  },
  {
   "cell_type": "code",
   "execution_count": 22,
   "id": "364b4459-592a-4f4e-9a85-10ce75ee8c58",
   "metadata": {
    "tags": []
   },
   "outputs": [
    {
     "data": {
      "text/plain": [
       "[]"
      ]
     },
     "execution_count": 22,
     "metadata": {},
     "output_type": "execute_result"
    },
    {
     "data": {
      "image/png": "[encoded data removed]",
      "text/plain": [
       "<Figure size 640x480 with 1 Axes>"
      ]
     },
     "metadata": {},
     "output_type": "display_data"
    }
   ],
   "source": [
    "plt.plot(mae)\n",
    "plt.plot(val_mae)\n",
    "plt.title(\"MAE Plot\")\n",
    "plt.xlabel(\"Epochs\")\n",
    "plt.ylabel(\"MAE\")\n",
    "plt.legend([\"Train\", \"Test\"])\n",
    "plt.plot()"
   ]
  },
  {
   "cell_type": "code",
   "execution_count": null,
   "id": "13db16fb-a4fc-43cc-a335-af5ae8720256",
   "metadata": {},
   "outputs": [],
   "source": []
  }
 ],
 "metadata": {
  "kernelspec": {
   "display_name": "Python 3 (ipykernel)",
   "language": "python",
   "name": "python3"
  },
  "language_info": {
   "codemirror_mode": {
    "name": "ipython",
    "version": 3
   },
   "file_extension": ".py",
   "mimetype": "text/x-python",
   "name": "python",
   "nbconvert_exporter": "python",
   "pygments_lexer": "ipython3",
   "version": "3.10.13"
  }
 },
 "nbformat": 4,
 "nbformat_minor": 5
}
