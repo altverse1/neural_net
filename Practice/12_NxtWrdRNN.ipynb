{
 "cells": [
  {
   "cell_type": "markdown",
   "id": "4c23cf64-8267-43d4-8609-154b4681e833",
   "metadata": {},
   "source": [
    "# Prediction of next word using RNN "
   ]
  },
  {
   "cell_type": "code",
   "execution_count": 6,
   "id": "e710b7f5-6364-453b-9971-7b463fe2c401",
   "metadata": {
    "tags": []
   },
   "outputs": [],
   "source": [
    "import pandas as pd\n",
    "import numpy as np\n",
    "import tensorflow as tf\n",
    "from tensorflow import keras\n",
    "from keras.layers import Dense, Embedding, SimpleRNN, TextVectorization\n",
    "from keras.models import Sequential"
   ]
  },
  {
   "cell_type": "code",
   "execution_count": 3,
   "id": "542e2ece-44d3-42bb-8476-b484a1651582",
   "metadata": {
    "tags": []
   },
   "outputs": [],
   "source": [
    "text = \"This is a sample text used to demonstrate predictive text with basic RNNs.In this example,we'll predict the next word as you type\"\n",
    "\n",
    "tknizr = TextVectorization()\n",
    "tknizr.adapt(text.split())\n",
    "seq = tknizr(text)"
   ]
  },
  {
   "cell_type": "code",
   "execution_count": 4,
   "id": "510cf30d-e73c-4a71-b1ec-646b189be428",
   "metadata": {
    "tags": []
   },
   "outputs": [
    {
     "data": {
      "text/plain": [
       "<tf.Tensor: shape=(22,), dtype=int64, numpy=\n",
       "array([ 2, 16, 21, 11,  3,  7,  9, 18, 13,  3,  6, 19, 12,  2, 17, 14, 10,\n",
       "       15,  5, 20,  4,  8], dtype=int64)>"
      ]
     },
     "execution_count": 4,
     "metadata": {},
     "output_type": "execute_result"
    }
   ],
   "source": [
    "seq"
   ]
  },
  {
   "cell_type": "code",
   "execution_count": 7,
   "id": "a86b0332-ad1e-49a9-8136-276510cdb1bd",
   "metadata": {},
   "outputs": [
    {
     "data": {
      "text/plain": [
       "TensorShape([21])"
      ]
     },
     "execution_count": 7,
     "metadata": {},
     "output_type": "execute_result"
    }
   ],
   "source": [
    "x = seq[:-1]\n",
    "y = seq[1:]\n",
    "x.shape"
   ]
  },
  {
   "cell_type": "code",
   "execution_count": 8,
   "id": "abe45652-5d94-4dbc-94b5-5074bf1a7037",
   "metadata": {
    "tags": []
   },
   "outputs": [
    {
     "name": "stdout",
     "output_type": "stream",
     "text": [
      "Epoch 1/50\n",
      "1/1 [==============================] - 2s 2s/step - loss: 3.1029 - accuracy: 0.0431\n",
      "Epoch 2/50\n",
      "1/1 [==============================] - 0s 4ms/step - loss: 3.0885 - accuracy: 0.0454\n",
      "Epoch 3/50\n",
      "1/1 [==============================] - 0s 3ms/step - loss: 3.0742 - accuracy: 0.0454\n",
      "Epoch 4/50\n",
      "1/1 [==============================] - 0s 5ms/step - loss: 3.0599 - accuracy: 0.0476\n",
      "Epoch 5/50\n",
      "1/1 [==============================] - 0s 0s/step - loss: 3.0456 - accuracy: 0.0499\n",
      "Epoch 6/50\n",
      "1/1 [==============================] - 0s 13ms/step - loss: 3.0312 - accuracy: 0.0522\n",
      "Epoch 7/50\n",
      "1/1 [==============================] - 0s 4ms/step - loss: 3.0168 - accuracy: 0.0522\n",
      "Epoch 8/50\n",
      "1/1 [==============================] - 0s 6ms/step - loss: 3.0023 - accuracy: 0.0544\n",
      "Epoch 9/50\n",
      "1/1 [==============================] - 0s 799us/step - loss: 2.9876 - accuracy: 0.0522\n",
      "Epoch 10/50\n",
      "1/1 [==============================] - 0s 5ms/step - loss: 2.9727 - accuracy: 0.0544\n",
      "Epoch 11/50\n",
      "1/1 [==============================] - 0s 4ms/step - loss: 2.9576 - accuracy: 0.0544\n",
      "Epoch 12/50\n",
      "1/1 [==============================] - 0s 10ms/step - loss: 2.9422 - accuracy: 0.0544\n",
      "Epoch 13/50\n",
      "1/1 [==============================] - 0s 0s/step - loss: 2.9265 - accuracy: 0.0522\n",
      "Epoch 14/50\n",
      "1/1 [==============================] - 0s 14ms/step - loss: 2.9105 - accuracy: 0.0522\n",
      "Epoch 15/50\n",
      "1/1 [==============================] - 0s 3ms/step - loss: 2.8941 - accuracy: 0.0522\n",
      "Epoch 16/50\n",
      "1/1 [==============================] - 0s 4ms/step - loss: 2.8773 - accuracy: 0.0522\n",
      "Epoch 17/50\n",
      "1/1 [==============================] - 0s 3ms/step - loss: 2.8600 - accuracy: 0.0522\n",
      "Epoch 18/50\n",
      "1/1 [==============================] - 0s 0s/step - loss: 2.8422 - accuracy: 0.0522\n",
      "Epoch 19/50\n",
      "1/1 [==============================] - 0s 17ms/step - loss: 2.8239 - accuracy: 0.0522\n",
      "Epoch 20/50\n",
      "1/1 [==============================] - 0s 0s/step - loss: 2.8051 - accuracy: 0.0522\n",
      "Epoch 21/50\n",
      "1/1 [==============================] - 0s 13ms/step - loss: 2.7856 - accuracy: 0.0522\n",
      "Epoch 22/50\n",
      "1/1 [==============================] - 0s 0s/step - loss: 2.7656 - accuracy: 0.0522\n",
      "Epoch 23/50\n",
      "1/1 [==============================] - 0s 10ms/step - loss: 2.7449 - accuracy: 0.0522\n",
      "Epoch 24/50\n",
      "1/1 [==============================] - 0s 4ms/step - loss: 2.7235 - accuracy: 0.0522\n",
      "Epoch 25/50\n",
      "1/1 [==============================] - 0s 0s/step - loss: 2.7013 - accuracy: 0.0522\n",
      "Epoch 26/50\n",
      "1/1 [==============================] - 0s 14ms/step - loss: 2.6785 - accuracy: 0.0522\n",
      "Epoch 27/50\n",
      "1/1 [==============================] - 0s 0s/step - loss: 2.6548 - accuracy: 0.0522\n",
      "Epoch 28/50\n",
      "1/1 [==============================] - 0s 11ms/step - loss: 2.6304 - accuracy: 0.0522\n",
      "Epoch 29/50\n",
      "1/1 [==============================] - 0s 3ms/step - loss: 2.6051 - accuracy: 0.0522\n",
      "Epoch 30/50\n",
      "1/1 [==============================] - 0s 0s/step - loss: 2.5790 - accuracy: 0.0522\n",
      "Epoch 31/50\n",
      "1/1 [==============================] - 0s 5ms/step - loss: 2.5520 - accuracy: 0.0522\n",
      "Epoch 32/50\n",
      "1/1 [==============================] - 0s 0s/step - loss: 2.5241 - accuracy: 0.0522\n",
      "Epoch 33/50\n",
      "1/1 [==============================] - 0s 13ms/step - loss: 2.4952 - accuracy: 0.0522\n",
      "Epoch 34/50\n",
      "1/1 [==============================] - 0s 0s/step - loss: 2.4655 - accuracy: 0.0522\n",
      "Epoch 35/50\n",
      "1/1 [==============================] - 0s 10ms/step - loss: 2.4347 - accuracy: 0.0522\n",
      "Epoch 36/50\n",
      "1/1 [==============================] - 0s 4ms/step - loss: 2.4030 - accuracy: 0.0522\n",
      "Epoch 37/50\n",
      "1/1 [==============================] - 0s 0s/step - loss: 2.3704 - accuracy: 0.0522\n",
      "Epoch 38/50\n",
      "1/1 [==============================] - 0s 13ms/step - loss: 2.3367 - accuracy: 0.0522\n",
      "Epoch 39/50\n",
      "1/1 [==============================] - 0s 2ms/step - loss: 2.3020 - accuracy: 0.0522\n",
      "Epoch 40/50\n",
      "1/1 [==============================] - 0s 0s/step - loss: 2.2663 - accuracy: 0.0522\n",
      "Epoch 41/50\n",
      "1/1 [==============================] - 0s 5ms/step - loss: 2.2296 - accuracy: 0.0522\n",
      "Epoch 42/50\n",
      "1/1 [==============================] - 0s 13ms/step - loss: 2.1919 - accuracy: 0.0522\n",
      "Epoch 43/50\n",
      "1/1 [==============================] - 0s 0s/step - loss: 2.1532 - accuracy: 0.0522\n",
      "Epoch 44/50\n",
      "1/1 [==============================] - 0s 4ms/step - loss: 2.1135 - accuracy: 0.0522\n",
      "Epoch 45/50\n",
      "1/1 [==============================] - 0s 0s/step - loss: 2.0728 - accuracy: 0.0522\n",
      "Epoch 46/50\n",
      "1/1 [==============================] - 0s 12ms/step - loss: 2.0312 - accuracy: 0.0522\n",
      "Epoch 47/50\n",
      "1/1 [==============================] - 0s 3ms/step - loss: 1.9887 - accuracy: 0.0522\n",
      "Epoch 48/50\n",
      "1/1 [==============================] - 0s 11ms/step - loss: 1.9453 - accuracy: 0.0522\n",
      "Epoch 49/50\n",
      "1/1 [==============================] - 0s 5ms/step - loss: 1.9011 - accuracy: 0.0522\n",
      "Epoch 50/50\n",
      "1/1 [==============================] - 0s 7ms/step - loss: 1.8560 - accuracy: 0.0522\n"
     ]
    },
    {
     "data": {
      "text/plain": [
       "<keras.callbacks.History at 0x24ce30c5360>"
      ]
     },
     "execution_count": 8,
     "metadata": {},
     "output_type": "execute_result"
    }
   ],
   "source": [
    "model = Sequential([\n",
    "    Embedding(input_dim=len(tknizr.get_vocabulary()), input_length=1, output_dim=64),\n",
    "    SimpleRNN(128, return_sequences=True),\n",
    "    Dense(len(tknizr.get_vocabulary()), activation='softmax' )\n",
    "])\n",
    "\n",
    "model.compile(loss='sparse_categorical_crossentropy', optimizer='adam', metrics=['accuracy'])\n",
    "model.fit(x, y, epochs=50)"
   ]
  },
  {
   "cell_type": "code",
   "execution_count": 9,
   "id": "4736f5fc-1056-48e6-a1b7-0478aae596e9",
   "metadata": {
    "tags": []
   },
   "outputs": [],
   "source": [
    "def gen_word(seed_text):\n",
    "    sed_seq = tknizr(seed_text)\n",
    "    pred = model.predict(sed_seq)\n",
    "    pred_ind = np.argmax(pred)\n",
    "    pred_wrd = tknizr.get_vocabulary()[pred_ind]\n",
    "    return pred_wrd"
   ]
  },
  {
   "cell_type": "code",
   "execution_count": 10,
   "id": "e683ab4c-96e8-44ca-b0f8-83a9577397d0",
   "metadata": {
    "tags": []
   },
   "outputs": [
    {
     "name": "stdout",
     "output_type": "stream",
     "text": [
      "1/1 [==============================] - 0s 260ms/step\n",
      "to\n"
     ]
    }
   ],
   "source": [
    "input = \"used\"\n",
    "print(gen_word(input))"
   ]
  },
  {
   "cell_type": "code",
   "execution_count": null,
   "id": "b0320fc6-388f-480a-9de5-8c2c63a459bb",
   "metadata": {},
   "outputs": [],
   "source": []
  }
 ],
 "metadata": {
  "kernelspec": {
   "display_name": "Python 3 (ipykernel)",
   "language": "python",
   "name": "python3"
  },
  "language_info": {
   "codemirror_mode": {
    "name": "ipython",
    "version": 3
   },
   "file_extension": ".py",
   "mimetype": "text/x-python",
   "name": "python",
   "nbconvert_exporter": "python",
   "pygments_lexer": "ipython3",
   "version": "3.10.13"
  }
 },
 "nbformat": 4,
 "nbformat_minor": 5
}
