{
 "cells": [
  {
   "cell_type": "markdown",
   "id": "6b44acd3-5ec3-4d81-a0bd-d0af986d43e5",
   "metadata": {
    "tags": []
   },
   "source": [
    "# Transfer learning model using VGG16, VGG19, RESNET50"
   ]
  },
  {
   "cell_type": "code",
   "execution_count": null,
   "id": "f1246521-82c9-4563-923d-e461a281067c",
   "metadata": {
    "tags": []
   },
   "outputs": [],
   "source": [
    "import pandas as pd\n",
    "import numpy as np\n",
    "import tensorflow as tf\n",
    "import matplotlib.pyplot as plt\n",
    "from tensorflow import keras\n",
    "from keras.layers import GlobalAveragePooling2D, Dense\n",
    "from keras import Model\n",
    "from keras.applications import VGG16, VGG19, ResNet50\n",
    "from keras.datasets import cifar10"
   ]
  },
  {
   "cell_type": "code",
   "execution_count": null,
   "id": "4a1e2c27-a5ce-40c5-8ae8-5ff1ebacdc7f",
   "metadata": {
    "tags": []
   },
   "outputs": [],
   "source": [
    "(x_train, y_train), (x_test, y_test) = cifar10.load_data()"
   ]
  },
  {
   "cell_type": "code",
   "execution_count": null,
   "id": "43ded541-bbcf-493c-b28b-94ccc748432f",
   "metadata": {
    "tags": []
   },
   "outputs": [],
   "source": [
    "from keras.utils import to_categorical\n",
    "\n",
    "x_train = x_train.astype('float32')/255.0\n",
    "x_test = x_test.astype('float32')/255.0\n",
    "\n",
    "y_train = to_categorical(y_train, 10)\n",
    "y_test = to_categorical(y_test, 10)"
   ]
  },
  {
   "cell_type": "code",
   "execution_count": null,
   "id": "917133ee-82a5-4527-8157-17f6fb3f4e13",
   "metadata": {
    "tags": []
   },
   "outputs": [],
   "source": [
    "x_train.shape"
   ]
  },
  {
   "cell_type": "markdown",
   "id": "2b1ee11e-5d79-42bc-95dc-ca95b4df478e",
   "metadata": {},
   "source": [
    "## VGG16"
   ]
  },
  {
   "cell_type": "code",
   "execution_count": null,
   "id": "e9c26a84-9271-4a75-be37-1ebd93523680",
   "metadata": {
    "tags": []
   },
   "outputs": [],
   "source": [
    "# Define the application\n",
    "vgg16 = VGG16(weights=\"imagenet\", include_top = False, input_shape=(32,32,3))\n",
    "\n",
    "# Define the output layers GlobalAvgPooling2D and Dense\n",
    "vgg16_out = GlobalAveragePooling2D()(vgg16.output)\n",
    "vgg16_out = Dense(10, activation='softmax')(vgg16_out)\n",
    "\n",
    "# Define the Model Formally\n",
    "vgg16_model = Model(inputs=vgg16.input, outputs=vgg16_out)\n",
    "\n",
    "# Compile it\n",
    "vgg16_model.compile(optimizer='adam', loss='categorical_crossentropy', metrics=['accuracy'])\n",
    "\n",
    "# Evaluate Using it\n",
    "vgg16_loss, vgg16_acc = vgg16_model.evaluate(x_test, y_test, verbose=0)"
   ]
  },
  {
   "cell_type": "markdown",
   "id": "ecd84b37-5a78-4848-b59d-df587b3334e5",
   "metadata": {
    "tags": []
   },
   "source": [
    "## VGG19\n",
    "\n"
   ]
  },
  {
   "cell_type": "code",
   "execution_count": null,
   "id": "fd740235-88d0-4e71-a16e-27b2c4e75b57",
   "metadata": {
    "tags": []
   },
   "outputs": [],
   "source": [
    "# Define the application\n",
    "vgg19 = VGG19(weights=\"imagenet\", include_top = False, input_shape=(32,32,3))\n",
    "\n",
    "# Define the output layers GlobalAvgPooling2D and Dense\n",
    "vgg19_out = GlobalAveragePooling2D()(vgg19.output)\n",
    "vgg19_out = Dense(10, activation='softmax')(vgg19_out)\n",
    "\n",
    "# Define the Model Formally\n",
    "vgg19_model = Model(inputs=vgg19.input, outputs=vgg19_out)\n",
    "\n",
    "# Compile it\n",
    "vgg19_model.compile(optimizer='adam', loss='categorical_crossentropy', metrics=['accuracy'])\n",
    "\n",
    "# Evaluate Using it\n",
    "vgg19_loss, vgg19_acc = vgg19_model.evaluate(x_test, y_test, verbose=0)\n"
   ]
  },
  {
   "cell_type": "markdown",
   "id": "0e7070d3-8ae8-4027-b925-0851e5d95860",
   "metadata": {},
   "source": [
    "## RESNET50"
   ]
  },
  {
   "cell_type": "code",
   "execution_count": null,
   "id": "252481f7-a82c-4312-a622-be109937f144",
   "metadata": {
    "tags": []
   },
   "outputs": [],
   "source": [
    "# Define the application\n",
    "resnet = ResNet50(include_top = False, input_shape=(32, 32, 3))\n",
    "\n",
    "# Define the output layers GlobalAvgPooling2D and Dense\n",
    "resent_out = GlobalAveragePooling2D()(resnet.output)\n",
    "resnet_out = Dense(32, activation='relu')(resent_out)\n",
    "\n",
    "# Define the Model Formally\n",
    "resnet_model = Model(inputs=resenet.inputs, outputs=resent_out)\n",
    "\n",
    "# Compile it\n",
    "resnet_model.compile(optimizer='adam', loss='categorial_crossentropy', metrics=['accuracy'])\n",
    "\n",
    "# Evaluate Using it\n",
    "resnet_loss, resnet_acc = resnet_model.evaluate(x_test, y_test, verbose=0)"
   ]
  },
  {
   "cell_type": "code",
   "execution_count": 7,
   "id": "8c51ca20-d290-48d9-8fab-e8775f475bc5",
   "metadata": {
    "tags": []
   },
   "outputs": [
    {
     "name": "stdout",
     "output_type": "stream",
     "text": [
      "VGG16 Test Accuracy 0.09920000284910202\n"
     ]
    }
   ],
   "source": [
    "print(\"VGG16 Test Accuracy\", vgg16_acc)\n",
    "print(\"VGG19 Test Accuracy\", vgg19_acc)\n",
    "print(\"ResNet50 Test Accuracy\", resnet_acc)\n"
   ]
  },
  {
   "cell_type": "code",
   "execution_count": null,
   "id": "128f106e-73f1-4060-a8ce-19a9838f2e10",
   "metadata": {},
   "outputs": [],
   "source": []
  }
 ],
 "metadata": {
  "kernelspec": {
   "display_name": "Python 3 (ipykernel)",
   "language": "python",
   "name": "python3"
  },
  "language_info": {
   "codemirror_mode": {
    "name": "ipython",
    "version": 3
   },
   "file_extension": ".py",
   "mimetype": "text/x-python",
   "name": "python",
   "nbconvert_exporter": "python",
   "pygments_lexer": "ipython3",
   "version": "3.10.13"
  }
 },
 "nbformat": 4,
 "nbformat_minor": 5
}
