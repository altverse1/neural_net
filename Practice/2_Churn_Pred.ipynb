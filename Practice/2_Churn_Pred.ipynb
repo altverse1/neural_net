{
 "cells": [
  {
   "cell_type": "markdown",
   "id": "0d317c13-0615-45b6-9882-47074937b883",
   "metadata": {},
   "source": [
    "# Prediction of customer churn using ANN"
   ]
  },
  {
   "cell_type": "code",
   "execution_count": 1,
   "id": "f100ea50-3ae2-4b4a-aa78-95ca112e4ce4",
   "metadata": {
    "tags": []
   },
   "outputs": [],
   "source": [
    "import pandas as pd\n",
    "import numpy as np"
   ]
  },
  {
   "cell_type": "code",
   "execution_count": 2,
   "id": "111b36a0-c652-46e4-8107-938de614451b",
   "metadata": {
    "tags": []
   },
   "outputs": [
    {
     "name": "stdout",
     "output_type": "stream",
     "text": [
      "<class 'pandas.core.frame.DataFrame'>\n",
      "RangeIndex: 10000 entries, 0 to 9999\n",
      "Data columns (total 14 columns):\n",
      " #   Column           Non-Null Count  Dtype  \n",
      "---  ------           --------------  -----  \n",
      " 0   RowNumber        10000 non-null  int64  \n",
      " 1   CustomerId       10000 non-null  int64  \n",
      " 2   Surname          10000 non-null  object \n",
      " 3   CreditScore      10000 non-null  int64  \n",
      " 4   Geography        10000 non-null  object \n",
      " 5   Gender           10000 non-null  object \n",
      " 6   Age              10000 non-null  int64  \n",
      " 7   Tenure           10000 non-null  int64  \n",
      " 8   Balance          10000 non-null  float64\n",
      " 9   NumOfProducts    10000 non-null  int64  \n",
      " 10  HasCrCard        10000 non-null  int64  \n",
      " 11  IsActiveMember   10000 non-null  int64  \n",
      " 12  EstimatedSalary  10000 non-null  float64\n",
      " 13  Exited           10000 non-null  int64  \n",
      "dtypes: float64(2), int64(9), object(3)\n",
      "memory usage: 1.1+ MB\n"
     ]
    }
   ],
   "source": [
    "df = pd.read_csv('./datasets/Churn_Modelling.csv')\n",
    "df.info()"
   ]
  },
  {
   "cell_type": "code",
   "execution_count": 3,
   "id": "9e0ab548-ba30-4aec-853e-f4667a83bea3",
   "metadata": {
    "tags": []
   },
   "outputs": [],
   "source": [
    "from sklearn.preprocessing import LabelEncoder\n",
    "encoder = LabelEncoder()\n",
    "df['Geography'] = encoder.fit_transform(df['Geography'])\n",
    "df['Gender'] = encoder.fit_transform(df['Gender'])"
   ]
  },
  {
   "cell_type": "code",
   "execution_count": 4,
   "id": "0a4d9620-a27f-47e4-a0aa-cb142fb9b7a3",
   "metadata": {
    "tags": []
   },
   "outputs": [],
   "source": [
    "x = df.iloc[:, 3:13]\n",
    "y = df.iloc[:, 13]"
   ]
  },
  {
   "cell_type": "code",
   "execution_count": 5,
   "id": "dc32f564-3b8c-4b10-a5fc-7b97f2844cbf",
   "metadata": {
    "tags": []
   },
   "outputs": [],
   "source": [
    "from sklearn.model_selection import train_test_split\n",
    "x_train, x_test, y_train, y_test=train_test_split(x,y,test_size=0.2,random_state=3)"
   ]
  },
  {
   "cell_type": "code",
   "execution_count": 6,
   "id": "f0b89508-115e-4766-94a3-0a36080ee880",
   "metadata": {
    "tags": []
   },
   "outputs": [
    {
     "name": "stdout",
     "output_type": "stream",
     "text": [
      "Epoch 1/35\n",
      "800/800 [==============================] - 2s 2ms/step - loss: 1202.0831 - accuracy: 0.5224 - val_loss: 0.7824 - val_accuracy: 0.8005\n",
      "Epoch 2/35\n",
      "800/800 [==============================] - 1s 2ms/step - loss: 0.9554 - accuracy: 0.7707 - val_loss: 0.7695 - val_accuracy: 0.8010\n",
      "Epoch 3/35\n",
      "800/800 [==============================] - 1s 2ms/step - loss: 0.8338 - accuracy: 0.7656 - val_loss: 0.9694 - val_accuracy: 0.8025\n",
      "Epoch 4/35\n",
      "800/800 [==============================] - 2s 2ms/step - loss: 0.7330 - accuracy: 0.7729 - val_loss: 0.6459 - val_accuracy: 0.8020\n",
      "Epoch 5/35\n",
      "800/800 [==============================] - 2s 2ms/step - loss: 0.7615 - accuracy: 0.7686 - val_loss: 0.5321 - val_accuracy: 0.8020\n",
      "Epoch 6/35\n",
      "800/800 [==============================] - 2s 2ms/step - loss: 0.7518 - accuracy: 0.7681 - val_loss: 0.6365 - val_accuracy: 0.8020\n",
      "Epoch 7/35\n",
      "800/800 [==============================] - 1s 2ms/step - loss: 0.7300 - accuracy: 0.7721 - val_loss: 0.5308 - val_accuracy: 0.8020\n",
      "Epoch 8/35\n",
      "800/800 [==============================] - 1s 2ms/step - loss: 0.7668 - accuracy: 0.7654 - val_loss: 0.8058 - val_accuracy: 0.8020\n",
      "Epoch 9/35\n",
      "800/800 [==============================] - 1s 2ms/step - loss: 0.6506 - accuracy: 0.7756 - val_loss: 0.5575 - val_accuracy: 0.8020\n",
      "Epoch 10/35\n",
      "800/800 [==============================] - 2s 2ms/step - loss: 0.6453 - accuracy: 0.7793 - val_loss: 0.5225 - val_accuracy: 0.8020\n",
      "Epoch 11/35\n",
      "800/800 [==============================] - 2s 2ms/step - loss: 0.6215 - accuracy: 0.7801 - val_loss: 0.5230 - val_accuracy: 0.8020\n",
      "Epoch 12/35\n",
      "800/800 [==============================] - 2s 2ms/step - loss: 0.5633 - accuracy: 0.7874 - val_loss: 0.5525 - val_accuracy: 0.8020\n",
      "Epoch 13/35\n",
      "800/800 [==============================] - 1s 2ms/step - loss: 0.5686 - accuracy: 0.7869 - val_loss: 0.5321 - val_accuracy: 0.8020\n",
      "Epoch 14/35\n",
      "800/800 [==============================] - 1s 2ms/step - loss: 0.5288 - accuracy: 0.7944 - val_loss: 0.5189 - val_accuracy: 0.8020\n",
      "Epoch 15/35\n",
      "800/800 [==============================] - 1s 2ms/step - loss: 0.5219 - accuracy: 0.7943 - val_loss: 0.5129 - val_accuracy: 0.8020\n",
      "Epoch 16/35\n",
      "800/800 [==============================] - 1s 2ms/step - loss: 0.5195 - accuracy: 0.7946 - val_loss: 0.5101 - val_accuracy: 0.8020\n",
      "Epoch 17/35\n",
      "800/800 [==============================] - 1s 2ms/step - loss: 0.5171 - accuracy: 0.7943 - val_loss: 0.5074 - val_accuracy: 0.8020\n",
      "Epoch 18/35\n",
      "800/800 [==============================] - 1s 2ms/step - loss: 0.5149 - accuracy: 0.7943 - val_loss: 0.5041 - val_accuracy: 0.8020\n",
      "Epoch 19/35\n",
      "800/800 [==============================] - 1s 2ms/step - loss: 0.5116 - accuracy: 0.7946 - val_loss: 0.5038 - val_accuracy: 0.8020\n",
      "Epoch 20/35\n",
      "800/800 [==============================] - 1s 2ms/step - loss: 0.5096 - accuracy: 0.7944 - val_loss: 0.5046 - val_accuracy: 0.8020\n",
      "Epoch 21/35\n",
      "800/800 [==============================] - 1s 2ms/step - loss: 0.5122 - accuracy: 0.7947 - val_loss: 0.5019 - val_accuracy: 0.8020\n",
      "Epoch 22/35\n",
      "800/800 [==============================] - 2s 2ms/step - loss: 0.5112 - accuracy: 0.7946 - val_loss: 0.5006 - val_accuracy: 0.8020\n",
      "Epoch 23/35\n",
      "800/800 [==============================] - 1s 2ms/step - loss: 0.5107 - accuracy: 0.7945 - val_loss: 0.4990 - val_accuracy: 0.8025\n",
      "Epoch 24/35\n",
      "800/800 [==============================] - 2s 2ms/step - loss: 0.5100 - accuracy: 0.7946 - val_loss: 0.4980 - val_accuracy: 0.8025\n",
      "Epoch 25/35\n",
      "800/800 [==============================] - 1s 2ms/step - loss: 0.5094 - accuracy: 0.7947 - val_loss: 0.4972 - val_accuracy: 0.8025\n",
      "Epoch 26/35\n",
      "800/800 [==============================] - 1s 2ms/step - loss: 0.5090 - accuracy: 0.7947 - val_loss: 0.4969 - val_accuracy: 0.8025\n",
      "Epoch 27/35\n",
      "800/800 [==============================] - 2s 2ms/step - loss: 0.5090 - accuracy: 0.7947 - val_loss: 0.4969 - val_accuracy: 0.8025\n",
      "Epoch 28/35\n",
      "800/800 [==============================] - 1s 2ms/step - loss: 0.5086 - accuracy: 0.7947 - val_loss: 0.4969 - val_accuracy: 0.8025\n",
      "Epoch 29/35\n",
      "800/800 [==============================] - 1s 2ms/step - loss: 0.5084 - accuracy: 0.7947 - val_loss: 0.4968 - val_accuracy: 0.8025\n",
      "Epoch 30/35\n",
      "800/800 [==============================] - 1s 2ms/step - loss: 0.5084 - accuracy: 0.7946 - val_loss: 0.4969 - val_accuracy: 0.8025\n",
      "Epoch 31/35\n",
      "800/800 [==============================] - 2s 2ms/step - loss: 0.5084 - accuracy: 0.7947 - val_loss: 0.4971 - val_accuracy: 0.8025\n",
      "Epoch 32/35\n",
      "800/800 [==============================] - 1s 2ms/step - loss: 0.5084 - accuracy: 0.7947 - val_loss: 0.4970 - val_accuracy: 0.8025\n",
      "Epoch 33/35\n",
      "800/800 [==============================] - 1s 2ms/step - loss: 0.5084 - accuracy: 0.7947 - val_loss: 0.4968 - val_accuracy: 0.8025\n",
      "Epoch 34/35\n",
      "800/800 [==============================] - 1s 2ms/step - loss: 0.5084 - accuracy: 0.7947 - val_loss: 0.4970 - val_accuracy: 0.8025\n",
      "Epoch 35/35\n",
      "800/800 [==============================] - 2s 2ms/step - loss: 0.5083 - accuracy: 0.7947 - val_loss: 0.4970 - val_accuracy: 0.8025\n"
     ]
    }
   ],
   "source": [
    "import tensorflow\n",
    "from tensorflow import keras\n",
    "from keras.models import Sequential\n",
    "from keras.layers import Dense\n",
    "\n",
    "\n",
    "model = Sequential([\n",
    "    Dense(6, input_dim = x.shape[1], activation='relu', kernel_initializer='he_uniform'),\n",
    "    Dense(6, activation='relu', kernel_initializer='he_uniform'),\n",
    "    Dense(1, activation='sigmoid', kernel_initializer='glorot_uniform')\n",
    "])\n",
    "\n",
    "model.compile(optimizer='Adamax', loss='binary_crossentropy', metrics=['accuracy'])\n",
    "\n",
    "history = model.fit(x_train, y_train, epochs=35, validation_data=(x_test, y_test), batch_size=10)"
   ]
  },
  {
   "cell_type": "code",
   "execution_count": 7,
   "id": "2b888957-a4ea-4d80-b010-9f869cc625b1",
   "metadata": {
    "tags": []
   },
   "outputs": [],
   "source": [
    "loss = history.history['loss']\n",
    "acc = history.history['accuracy']\n",
    "val_loss = history.history['val_loss']\n",
    "val_acc = history.history['val_accuracy']"
   ]
  },
  {
   "cell_type": "code",
   "execution_count": 8,
   "id": "aaaaa2f5-34de-4820-b14e-ad3cf957319f",
   "metadata": {
    "tags": []
   },
   "outputs": [],
   "source": [
    "import matplotlib.pyplot as plt\n",
    "%matplotlib inline\n"
   ]
  },
  {
   "cell_type": "code",
   "execution_count": 9,
   "id": "2a0dae82-566f-4110-ba11-08a917a73fb3",
   "metadata": {
    "tags": []
   },
   "outputs": [
    {
     "data": {
      "image/png": "[encoded data removed]",
      "text/plain": [
       "<Figure size 640x480 with 1 Axes>"
      ]
     },
     "metadata": {},
     "output_type": "display_data"
    }
   ],
   "source": [
    "plt.plot(acc)\n",
    "plt.plot(val_acc)\n",
    "plt.title('Accuracy Plot')\n",
    "plt.xlabel('Epochs')\n",
    "plt.ylabel('Accuracy')\n",
    "plt.legend(['Train', 'Test'])\n",
    "plt.show()"
   ]
  },
  {
   "cell_type": "code",
   "execution_count": 10,
   "id": "57ea6af1-8b79-45ea-a44b-7728a1449a92",
   "metadata": {
    "tags": []
   },
   "outputs": [
    {
     "data": {
      "image/png": "[encoded data removed]",
      "text/plain": [
       "<Figure size 640x480 with 1 Axes>"
      ]
     },
     "metadata": {},
     "output_type": "display_data"
    }
   ],
   "source": [
    "plt.plot(loss)\n",
    "plt.plot(val_loss)\n",
    "plt.title('loss Plot')\n",
    "plt.xlabel('Epoch')\n",
    "plt.ylabel('Loss')\n",
    "plt.legend(['Train', 'Test'], loc='upper left')\n",
    "plt.show()"
   ]
  },
  {
   "cell_type": "code",
   "execution_count": null,
   "id": "32f24f12-cc68-442c-90d4-57dedb46c186",
   "metadata": {},
   "outputs": [],
   "source": []
  }
 ],
 "metadata": {
  "kernelspec": {
   "display_name": "Python 3 (ipykernel)",
   "language": "python",
   "name": "python3"
  },
  "language_info": {
   "codemirror_mode": {
    "name": "ipython",
    "version": 3
   },
   "file_extension": ".py",
   "mimetype": "text/x-python",
   "name": "python",
   "nbconvert_exporter": "python",
   "pygments_lexer": "ipython3",
   "version": "3.10.13"
  }
 },
 "nbformat": 4,
 "nbformat_minor": 5
}
