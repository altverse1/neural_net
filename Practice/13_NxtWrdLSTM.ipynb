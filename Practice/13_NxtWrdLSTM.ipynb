{
 "cells": [
  {
   "cell_type": "code",
   "execution_count": 1,
   "id": "f6a30d24-fcc0-469a-8401-aeabb886fd64",
   "metadata": {
    "tags": []
   },
   "outputs": [],
   "source": [
    "import pandas as pd\n",
    "import numpy as np\n",
    "import tensorflow as tf\n",
    "from tensorflow import keras\n",
    "from keras.layers import TextVectorization, Embedding, LSTM, Dense\n",
    "from keras.models import Sequential"
   ]
  },
  {
   "cell_type": "code",
   "execution_count": 2,
   "id": "7fd7c83d-d7c0-480c-b79d-744345b59d6f",
   "metadata": {
    "tags": []
   },
   "outputs": [
    {
     "data": {
      "text/plain": [
       "<tf.Tensor: shape=(22,), dtype=int64, numpy=\n",
       "array([ 2, 16, 21, 11,  3,  7,  9, 18, 13,  3,  6, 19, 12,  2, 17, 14, 10,\n",
       "       15,  5, 20,  4,  8], dtype=int64)>"
      ]
     },
     "execution_count": 2,
     "metadata": {},
     "output_type": "execute_result"
    }
   ],
   "source": [
    "text = \"This is a sample text used to demonstrate predictive text with basic RNNs.In this example,we'll predict the next word as you type\"\n",
    "\n",
    "tknizr = TextVectorization()\n",
    "tknizr.adapt(text.split())\n",
    "seq = tknizr(text)\n",
    "seq"
   ]
  },
  {
   "cell_type": "code",
   "execution_count": 3,
   "id": "358ae14b-a36d-44db-a2e8-d53364ebe086",
   "metadata": {
    "tags": []
   },
   "outputs": [
    {
     "data": {
      "text/plain": [
       "TensorShape([21])"
      ]
     },
     "execution_count": 3,
     "metadata": {},
     "output_type": "execute_result"
    }
   ],
   "source": [
    "x = seq[:-1]\n",
    "y = seq[1:]\n",
    "x.shape"
   ]
  },
  {
   "cell_type": "code",
   "execution_count": 5,
   "id": "804e5d42-8b5e-4a50-a25f-a9b8fa398fa6",
   "metadata": {
    "tags": []
   },
   "outputs": [
    {
     "name": "stdout",
     "output_type": "stream",
     "text": [
      "Epoch 1/50\n",
      "1/1 [==============================] - 3s 3s/step - loss: 3.0924\n",
      "Epoch 2/50\n",
      "1/1 [==============================] - 0s 5ms/step - loss: 3.0909\n",
      "Epoch 3/50\n",
      "1/1 [==============================] - 0s 5ms/step - loss: 3.0895\n",
      "Epoch 4/50\n",
      "1/1 [==============================] - 0s 4ms/step - loss: 3.0880\n",
      "Epoch 5/50\n",
      "1/1 [==============================] - 0s 4ms/step - loss: 3.0865\n",
      "Epoch 6/50\n",
      "1/1 [==============================] - 0s 7ms/step - loss: 3.0850\n",
      "Epoch 7/50\n",
      "1/1 [==============================] - 0s 7ms/step - loss: 3.0835\n",
      "Epoch 8/50\n",
      "1/1 [==============================] - 0s 5ms/step - loss: 3.0820\n",
      "Epoch 9/50\n",
      "1/1 [==============================] - 0s 5ms/step - loss: 3.0804\n",
      "Epoch 10/50\n",
      "1/1 [==============================] - 0s 4ms/step - loss: 3.0789\n",
      "Epoch 11/50\n",
      "1/1 [==============================] - 0s 7ms/step - loss: 3.0773\n",
      "Epoch 12/50\n",
      "1/1 [==============================] - 0s 4ms/step - loss: 3.0757\n",
      "Epoch 13/50\n",
      "1/1 [==============================] - 0s 7ms/step - loss: 3.0741\n",
      "Epoch 14/50\n",
      "1/1 [==============================] - 0s 6ms/step - loss: 3.0724\n",
      "Epoch 15/50\n",
      "1/1 [==============================] - 0s 6ms/step - loss: 3.0707\n",
      "Epoch 16/50\n",
      "1/1 [==============================] - 0s 7ms/step - loss: 3.0689\n",
      "Epoch 17/50\n",
      "1/1 [==============================] - 0s 6ms/step - loss: 3.0671\n",
      "Epoch 18/50\n",
      "1/1 [==============================] - 0s 6ms/step - loss: 3.0653\n",
      "Epoch 19/50\n",
      "1/1 [==============================] - 0s 9ms/step - loss: 3.0634\n",
      "Epoch 20/50\n",
      "1/1 [==============================] - 0s 6ms/step - loss: 3.0614\n",
      "Epoch 21/50\n",
      "1/1 [==============================] - 0s 6ms/step - loss: 3.0594\n",
      "Epoch 22/50\n",
      "1/1 [==============================] - 0s 5ms/step - loss: 3.0573\n",
      "Epoch 23/50\n",
      "1/1 [==============================] - 0s 6ms/step - loss: 3.0552\n",
      "Epoch 24/50\n",
      "1/1 [==============================] - 0s 5ms/step - loss: 3.0529\n",
      "Epoch 25/50\n",
      "1/1 [==============================] - 0s 6ms/step - loss: 3.0506\n",
      "Epoch 26/50\n",
      "1/1 [==============================] - 0s 7ms/step - loss: 3.0482\n",
      "Epoch 27/50\n",
      "1/1 [==============================] - 0s 5ms/step - loss: 3.0458\n",
      "Epoch 28/50\n",
      "1/1 [==============================] - 0s 4ms/step - loss: 3.0432\n",
      "Epoch 29/50\n",
      "1/1 [==============================] - 0s 4ms/step - loss: 3.0405\n",
      "Epoch 30/50\n",
      "1/1 [==============================] - 0s 5ms/step - loss: 3.0378\n",
      "Epoch 31/50\n",
      "1/1 [==============================] - 0s 7ms/step - loss: 3.0349\n",
      "Epoch 32/50\n",
      "1/1 [==============================] - 0s 6ms/step - loss: 3.0320\n",
      "Epoch 33/50\n",
      "1/1 [==============================] - 0s 4ms/step - loss: 3.0289\n",
      "Epoch 34/50\n",
      "1/1 [==============================] - 0s 4ms/step - loss: 3.0257\n",
      "Epoch 35/50\n",
      "1/1 [==============================] - 0s 7ms/step - loss: 3.0224\n",
      "Epoch 36/50\n",
      "1/1 [==============================] - 0s 6ms/step - loss: 3.0190\n",
      "Epoch 37/50\n",
      "1/1 [==============================] - 0s 6ms/step - loss: 3.0154\n",
      "Epoch 38/50\n",
      "1/1 [==============================] - 0s 6ms/step - loss: 3.0117\n",
      "Epoch 39/50\n",
      "1/1 [==============================] - 0s 5ms/step - loss: 3.0078\n",
      "Epoch 40/50\n",
      "1/1 [==============================] - 0s 4ms/step - loss: 3.0039\n",
      "Epoch 41/50\n",
      "1/1 [==============================] - 0s 8ms/step - loss: 2.9997\n",
      "Epoch 42/50\n",
      "1/1 [==============================] - 0s 6ms/step - loss: 2.9954\n",
      "Epoch 43/50\n",
      "1/1 [==============================] - 0s 6ms/step - loss: 2.9910\n",
      "Epoch 44/50\n",
      "1/1 [==============================] - 0s 7ms/step - loss: 2.9863\n",
      "Epoch 45/50\n",
      "1/1 [==============================] - 0s 5ms/step - loss: 2.9816\n",
      "Epoch 46/50\n",
      "1/1 [==============================] - 0s 8ms/step - loss: 2.9766\n",
      "Epoch 47/50\n",
      "1/1 [==============================] - 0s 4ms/step - loss: 2.9714\n",
      "Epoch 48/50\n",
      "1/1 [==============================] - 0s 5ms/step - loss: 2.9661\n",
      "Epoch 49/50\n",
      "1/1 [==============================] - 0s 8ms/step - loss: 2.9605\n",
      "Epoch 50/50\n",
      "1/1 [==============================] - 0s 5ms/step - loss: 2.9548\n"
     ]
    },
    {
     "data": {
      "text/plain": [
       "<keras.callbacks.History at 0x20b19f8be20>"
      ]
     },
     "execution_count": 5,
     "metadata": {},
     "output_type": "execute_result"
    }
   ],
   "source": [
    "model = Sequential([\n",
    "    Embedding(input_length=1, input_dim=len(tknizr.get_vocabulary()), output_dim=32),\n",
    "    LSTM(64),\n",
    "    Dense(len(tknizr.get_vocabulary()),activation='softmax')\n",
    "])\n",
    "\n",
    "model.compile(optimizer='adam', loss='sparse_categorical_crossentropy')\n",
    "model.fit(x, y, epochs=50)"
   ]
  },
  {
   "cell_type": "code",
   "execution_count": 7,
   "id": "918be72f-70df-45fa-8c44-40501645f848",
   "metadata": {
    "tags": []
   },
   "outputs": [],
   "source": [
    "def get_wrds(new):\n",
    "    newseq = tknizr(new)\n",
    "    pred = model.predict(newseq)\n",
    "    pred_ind = np.argmax(pred)\n",
    "    \n",
    "    return tknizr.get_vocabulary()[pred_ind]"
   ]
  },
  {
   "cell_type": "code",
   "execution_count": 8,
   "id": "e34b8e1e-f5e8-4a4a-94c0-4788e11a9a95",
   "metadata": {
    "tags": []
   },
   "outputs": [
    {
     "name": "stdout",
     "output_type": "stream",
     "text": [
      "1/1 [==============================] - 1s 629ms/step\n",
      "is\n"
     ]
    }
   ],
   "source": [
    "wrd = 'this'\n",
    "print(get_wrds(wrd))\n"
   ]
  },
  {
   "cell_type": "code",
   "execution_count": null,
   "id": "211ea9da-c439-45df-8de7-3249f1c21830",
   "metadata": {},
   "outputs": [],
   "source": []
  }
 ],
 "metadata": {
  "kernelspec": {
   "display_name": "Python 3 (ipykernel)",
   "language": "python",
   "name": "python3"
  },
  "language_info": {
   "codemirror_mode": {
    "name": "ipython",
    "version": 3
   },
   "file_extension": ".py",
   "mimetype": "text/x-python",
   "name": "python",
   "nbconvert_exporter": "python",
   "pygments_lexer": "ipython3",
   "version": "3.10.13"
  }
 },
 "nbformat": 4,
 "nbformat_minor": 5
}
