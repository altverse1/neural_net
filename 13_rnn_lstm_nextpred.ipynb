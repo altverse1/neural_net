{
  "cells": [
    {
      "cell_type": "code",
      "execution_count": 1,
      "metadata": {
        "tags": [],
        "id": "Y_nssai1C6F9"
      },
      "outputs": [],
      "source": [
        "import tensorflow as tf\n",
        "from tensorflow import keras\n",
        "from keras.layers import TextVectorization, Embedding, SimpleRNN, Dense\n",
        "from keras import Sequential\n",
        "import numpy as np"
      ]
    },
    {
      "cell_type": "markdown",
      "source": [
        "# Using RNN"
      ],
      "metadata": {
        "id": "vQP8U7r5F4Yd"
      }
    },
    {
      "cell_type": "code",
      "execution_count": 2,
      "metadata": {
        "id": "kdsfH2rJC6GA"
      },
      "outputs": [],
      "source": [
        "text=\"This is a sample text used to demonstrate predictive text with basic RNNs.In this example,we'll predict the next word as you type \""
      ]
    },
    {
      "cell_type": "code",
      "source": [
        "tokenizer = TextVectorization()\n",
        "tokenizer.adapt(text.split())"
      ],
      "metadata": {
        "id": "B5uiDuwHDORO"
      },
      "execution_count": 3,
      "outputs": []
    },
    {
      "cell_type": "code",
      "source": [
        "text_sequences = tokenizer(text)\n",
        "text_sequences"
      ],
      "metadata": {
        "colab": {
          "base_uri": "https://localhost:8080/"
        },
        "id": "rxBRtZYZD34x",
        "outputId": "fa9ee5e5-ad85-480e-dda3-d64c59350cbf"
      },
      "execution_count": 4,
      "outputs": [
        {
          "output_type": "execute_result",
          "data": {
            "text/plain": [
              "<tf.Tensor: shape=(22,), dtype=int64, numpy=\n",
              "array([ 2, 16, 21, 11,  3,  7,  9, 18, 13,  3,  6, 19, 12,  2, 17, 14, 10,\n",
              "       15,  5, 20,  4,  8])>"
            ]
          },
          "metadata": {},
          "execution_count": 4
        }
      ]
    },
    {
      "cell_type": "code",
      "source": [
        "x = text_sequences[:-1]\n",
        "y = text_sequences[1:]"
      ],
      "metadata": {
        "id": "FHf2LmhgD7jm"
      },
      "execution_count": 5,
      "outputs": []
    },
    {
      "cell_type": "markdown",
      "source": [
        "`text_sequences[:-1]` is slicing the list of text sequences to create `x`. It *takes all elements from the beginning of the list to the second-to-last element*. This means it creates x with all sequences except the last one.\n",
        "\n",
        "`text_sequences[1:]` is slicing the list of text sequences to create `y`. It *takes all elements starting from the second element to the end of the list*. This means it creates y with all sequences except the first one."
      ],
      "metadata": {
        "id": "MON6K656ESje"
      }
    },
    {
      "cell_type": "code",
      "source": [
        "model = Sequential([\n",
        "    Embedding(input_dim=len(tokenizer.get_vocabulary()), output_dim=64, input_length=1),\n",
        "    SimpleRNN(128,return_sequences=True),\n",
        "    Dense(len(tokenizer.get_vocabulary()),activation='softmax')\n",
        "])"
      ],
      "metadata": {
        "id": "TZXhQ4eAEy-W"
      },
      "execution_count": 6,
      "outputs": []
    },
    {
      "cell_type": "code",
      "source": [
        "model.compile(loss='sparse_categorical_crossentropy',optimizer='adam')"
      ],
      "metadata": {
        "id": "N0VoQofoFLMu"
      },
      "execution_count": 7,
      "outputs": []
    },
    {
      "cell_type": "code",
      "source": [
        "model.fit(x,y,epochs=50)"
      ],
      "metadata": {
        "colab": {
          "base_uri": "https://localhost:8080/"
        },
        "id": "obClzTmVFM69",
        "outputId": "0b49cc65-90eb-4976-9b14-3a0d1e924164"
      },
      "execution_count": 8,
      "outputs": [
        {
          "output_type": "stream",
          "name": "stdout",
          "text": [
            "Epoch 1/50\n",
            "1/1 [==============================] - 3s 3s/step - loss: 3.0975\n",
            "Epoch 2/50\n",
            "1/1 [==============================] - 0s 11ms/step - loss: 3.0833\n",
            "Epoch 3/50\n",
            "1/1 [==============================] - 0s 12ms/step - loss: 3.0690\n",
            "Epoch 4/50\n",
            "1/1 [==============================] - 0s 17ms/step - loss: 3.0547\n",
            "Epoch 5/50\n",
            "1/1 [==============================] - 0s 22ms/step - loss: 3.0404\n",
            "Epoch 6/50\n",
            "1/1 [==============================] - 0s 22ms/step - loss: 3.0260\n",
            "Epoch 7/50\n",
            "1/1 [==============================] - 0s 16ms/step - loss: 3.0115\n",
            "Epoch 8/50\n",
            "1/1 [==============================] - 0s 18ms/step - loss: 2.9968\n",
            "Epoch 9/50\n",
            "1/1 [==============================] - 0s 19ms/step - loss: 2.9819\n",
            "Epoch 10/50\n",
            "1/1 [==============================] - 0s 23ms/step - loss: 2.9667\n",
            "Epoch 11/50\n",
            "1/1 [==============================] - 0s 23ms/step - loss: 2.9513\n",
            "Epoch 12/50\n",
            "1/1 [==============================] - 0s 25ms/step - loss: 2.9356\n",
            "Epoch 13/50\n",
            "1/1 [==============================] - 0s 24ms/step - loss: 2.9196\n",
            "Epoch 14/50\n",
            "1/1 [==============================] - 0s 30ms/step - loss: 2.9031\n",
            "Epoch 15/50\n",
            "1/1 [==============================] - 0s 37ms/step - loss: 2.8863\n",
            "Epoch 16/50\n",
            "1/1 [==============================] - 0s 27ms/step - loss: 2.8689\n",
            "Epoch 17/50\n",
            "1/1 [==============================] - 0s 26ms/step - loss: 2.8511\n",
            "Epoch 18/50\n",
            "1/1 [==============================] - 0s 34ms/step - loss: 2.8328\n",
            "Epoch 19/50\n",
            "1/1 [==============================] - 0s 25ms/step - loss: 2.8139\n",
            "Epoch 20/50\n",
            "1/1 [==============================] - 0s 24ms/step - loss: 2.7944\n",
            "Epoch 21/50\n",
            "1/1 [==============================] - 0s 22ms/step - loss: 2.7743\n",
            "Epoch 22/50\n",
            "1/1 [==============================] - 0s 23ms/step - loss: 2.7536\n",
            "Epoch 23/50\n",
            "1/1 [==============================] - 0s 23ms/step - loss: 2.7321\n",
            "Epoch 24/50\n",
            "1/1 [==============================] - 0s 25ms/step - loss: 2.7099\n",
            "Epoch 25/50\n",
            "1/1 [==============================] - 0s 24ms/step - loss: 2.6870\n",
            "Epoch 26/50\n",
            "1/1 [==============================] - 0s 25ms/step - loss: 2.6633\n",
            "Epoch 27/50\n",
            "1/1 [==============================] - 0s 31ms/step - loss: 2.6387\n",
            "Epoch 28/50\n",
            "1/1 [==============================] - 0s 26ms/step - loss: 2.6133\n",
            "Epoch 29/50\n",
            "1/1 [==============================] - 0s 35ms/step - loss: 2.5871\n",
            "Epoch 30/50\n",
            "1/1 [==============================] - 0s 26ms/step - loss: 2.5600\n",
            "Epoch 31/50\n",
            "1/1 [==============================] - 0s 32ms/step - loss: 2.5319\n",
            "Epoch 32/50\n",
            "1/1 [==============================] - 0s 27ms/step - loss: 2.5030\n",
            "Epoch 33/50\n",
            "1/1 [==============================] - 0s 24ms/step - loss: 2.4730\n",
            "Epoch 34/50\n",
            "1/1 [==============================] - 0s 28ms/step - loss: 2.4421\n",
            "Epoch 35/50\n",
            "1/1 [==============================] - 0s 32ms/step - loss: 2.4102\n",
            "Epoch 36/50\n",
            "1/1 [==============================] - 0s 27ms/step - loss: 2.3773\n",
            "Epoch 37/50\n",
            "1/1 [==============================] - 0s 35ms/step - loss: 2.3434\n",
            "Epoch 38/50\n",
            "1/1 [==============================] - 0s 30ms/step - loss: 2.3085\n",
            "Epoch 39/50\n",
            "1/1 [==============================] - 0s 27ms/step - loss: 2.2725\n",
            "Epoch 40/50\n",
            "1/1 [==============================] - 0s 28ms/step - loss: 2.2355\n",
            "Epoch 41/50\n",
            "1/1 [==============================] - 0s 26ms/step - loss: 2.1975\n",
            "Epoch 42/50\n",
            "1/1 [==============================] - 0s 32ms/step - loss: 2.1585\n",
            "Epoch 43/50\n",
            "1/1 [==============================] - 0s 38ms/step - loss: 2.1185\n",
            "Epoch 44/50\n",
            "1/1 [==============================] - 0s 46ms/step - loss: 2.0775\n",
            "Epoch 45/50\n",
            "1/1 [==============================] - 0s 39ms/step - loss: 2.0355\n",
            "Epoch 46/50\n",
            "1/1 [==============================] - 0s 44ms/step - loss: 1.9926\n",
            "Epoch 47/50\n",
            "1/1 [==============================] - 0s 24ms/step - loss: 1.9489\n",
            "Epoch 48/50\n",
            "1/1 [==============================] - 0s 19ms/step - loss: 1.9042\n",
            "Epoch 49/50\n",
            "1/1 [==============================] - 0s 24ms/step - loss: 1.8588\n",
            "Epoch 50/50\n",
            "1/1 [==============================] - 0s 23ms/step - loss: 1.8126\n"
          ]
        },
        {
          "output_type": "execute_result",
          "data": {
            "text/plain": [
              "<keras.src.callbacks.History at 0x7bf4b5afb730>"
            ]
          },
          "metadata": {},
          "execution_count": 8
        }
      ]
    },
    {
      "cell_type": "code",
      "source": [
        "def generate_next_word(seed_text):\n",
        "  seed_sequence=tokenizer(seed_text)\n",
        "  predicted_probabilities=model.predict(seed_sequence)\n",
        "  predicted_index=np.argmax(predicted_probabilities)\n",
        "  predicted_word=tokenizer.get_vocabulary()[predicted_index]\n",
        "  return predicted_word"
      ],
      "metadata": {
        "id": "zlg714FfFN_-"
      },
      "execution_count": 9,
      "outputs": []
    },
    {
      "cell_type": "code",
      "source": [
        "input_text = \"used\"\n",
        "predicted_word = generate_next_word(input_text)\n",
        "print(f\"Input: '{input_text}', Predicted: '{predicted_word}'\")"
      ],
      "metadata": {
        "colab": {
          "base_uri": "https://localhost:8080/"
        },
        "id": "Xq8aXPQ7Fdnm",
        "outputId": "6d47ab18-c89e-44a8-a743-aa607be33bfa"
      },
      "execution_count": 10,
      "outputs": [
        {
          "output_type": "stream",
          "name": "stdout",
          "text": [
            "1/1 [==============================] - 1s 710ms/step\n",
            "Input: 'used', Predicted: 'to'\n"
          ]
        }
      ]
    },
    {
      "cell_type": "markdown",
      "source": [
        "# Using LSTM"
      ],
      "metadata": {
        "id": "HX6PjwI3F0h3"
      }
    },
    {
      "cell_type": "code",
      "source": [
        "from keras.layers import LSTM"
      ],
      "metadata": {
        "id": "vY3KsCqMGTS2"
      },
      "execution_count": 11,
      "outputs": []
    },
    {
      "cell_type": "code",
      "execution_count": 12,
      "metadata": {
        "id": "VbiY4eBAGJQS"
      },
      "outputs": [],
      "source": [
        "text=\"This is a sample text used to demonstrate predictive text with basic LSTM.In this example,we'll predict the next word as you type \""
      ]
    },
    {
      "cell_type": "code",
      "source": [
        "tokenizer = TextVectorization()\n",
        "tokenizer.adapt(text.split())"
      ],
      "metadata": {
        "id": "GigB4f4jGJQZ"
      },
      "execution_count": 13,
      "outputs": []
    },
    {
      "cell_type": "code",
      "source": [
        "text_sequences = tokenizer(text)\n",
        "text_sequences"
      ],
      "metadata": {
        "outputId": "2e3267f8-1171-4705-e480-5ea11b70a0e2",
        "colab": {
          "base_uri": "https://localhost:8080/"
        },
        "id": "l4A6YKSYGJQZ"
      },
      "execution_count": 14,
      "outputs": [
        {
          "output_type": "execute_result",
          "data": {
            "text/plain": [
              "<tf.Tensor: shape=(22,), dtype=int64, numpy=\n",
              "array([ 2, 16, 21, 11,  3,  7,  9, 18, 12,  3,  6, 19, 15,  2, 17, 13, 10,\n",
              "       14,  5, 20,  4,  8])>"
            ]
          },
          "metadata": {},
          "execution_count": 14
        }
      ]
    },
    {
      "cell_type": "code",
      "source": [
        "x = text_sequences[:-1]\n",
        "y = text_sequences[1:]"
      ],
      "metadata": {
        "id": "-lzDDLFGGJQZ"
      },
      "execution_count": 15,
      "outputs": []
    },
    {
      "cell_type": "markdown",
      "source": [
        "`text_sequences[:-1]` is slicing the list of text sequences to create `x`. It *takes all elements from the beginning of the list to the second-to-last element*. This means it creates x with all sequences except the last one.\n",
        "\n",
        "`text_sequences[1:]` is slicing the list of text sequences to create `y`. It *takes all elements starting from the second element to the end of the list*. This means it creates y with all sequences except the first one."
      ],
      "metadata": {
        "id": "FmkuGQNTGJQZ"
      }
    },
    {
      "cell_type": "code",
      "source": [
        "model = Sequential([\n",
        "    Embedding(input_dim=len(tokenizer.get_vocabulary()), output_dim=64, input_length=1),\n",
        "    LSTM(128,return_sequences=True),\n",
        "    Dense(len(tokenizer.get_vocabulary()),activation='softmax')\n",
        "])"
      ],
      "metadata": {
        "id": "G-ZH3BaoGJQa"
      },
      "execution_count": 16,
      "outputs": []
    },
    {
      "cell_type": "code",
      "source": [
        "model.compile(loss='sparse_categorical_crossentropy',optimizer='adam')"
      ],
      "metadata": {
        "id": "Hm_U2syMGJQa"
      },
      "execution_count": 17,
      "outputs": []
    },
    {
      "cell_type": "code",
      "source": [
        "model.fit(x,y,epochs=50)"
      ],
      "metadata": {
        "outputId": "0d1284c8-4d8d-4741-9d5c-5432aa7dc183",
        "colab": {
          "base_uri": "https://localhost:8080/"
        },
        "id": "NtVrbi3VGJQa"
      },
      "execution_count": 18,
      "outputs": [
        {
          "output_type": "stream",
          "name": "stdout",
          "text": [
            "Epoch 1/50\n",
            "1/1 [==============================] - 7s 7s/step - loss: 3.0932\n",
            "Epoch 2/50\n",
            "1/1 [==============================] - 0s 13ms/step - loss: 3.0904\n",
            "Epoch 3/50\n",
            "1/1 [==============================] - 0s 15ms/step - loss: 3.0876\n",
            "Epoch 4/50\n",
            "1/1 [==============================] - 0s 18ms/step - loss: 3.0848\n",
            "Epoch 5/50\n",
            "1/1 [==============================] - 0s 12ms/step - loss: 3.0819\n",
            "Epoch 6/50\n",
            "1/1 [==============================] - 0s 16ms/step - loss: 3.0791\n",
            "Epoch 7/50\n",
            "1/1 [==============================] - 0s 13ms/step - loss: 3.0762\n",
            "Epoch 8/50\n",
            "1/1 [==============================] - 0s 18ms/step - loss: 3.0733\n",
            "Epoch 9/50\n",
            "1/1 [==============================] - 0s 13ms/step - loss: 3.0703\n",
            "Epoch 10/50\n",
            "1/1 [==============================] - 0s 13ms/step - loss: 3.0672\n",
            "Epoch 11/50\n",
            "1/1 [==============================] - 0s 13ms/step - loss: 3.0641\n",
            "Epoch 12/50\n",
            "1/1 [==============================] - 0s 18ms/step - loss: 3.0608\n",
            "Epoch 13/50\n",
            "1/1 [==============================] - 0s 16ms/step - loss: 3.0575\n",
            "Epoch 14/50\n",
            "1/1 [==============================] - 0s 16ms/step - loss: 3.0541\n",
            "Epoch 15/50\n",
            "1/1 [==============================] - 0s 16ms/step - loss: 3.0505\n",
            "Epoch 16/50\n",
            "1/1 [==============================] - 0s 14ms/step - loss: 3.0468\n",
            "Epoch 17/50\n",
            "1/1 [==============================] - 0s 17ms/step - loss: 3.0430\n",
            "Epoch 18/50\n",
            "1/1 [==============================] - 0s 13ms/step - loss: 3.0390\n",
            "Epoch 19/50\n",
            "1/1 [==============================] - 0s 15ms/step - loss: 3.0348\n",
            "Epoch 20/50\n",
            "1/1 [==============================] - 0s 13ms/step - loss: 3.0305\n",
            "Epoch 21/50\n",
            "1/1 [==============================] - 0s 15ms/step - loss: 3.0259\n",
            "Epoch 22/50\n",
            "1/1 [==============================] - 0s 15ms/step - loss: 3.0212\n",
            "Epoch 23/50\n",
            "1/1 [==============================] - 0s 16ms/step - loss: 3.0163\n",
            "Epoch 24/50\n",
            "1/1 [==============================] - 0s 14ms/step - loss: 3.0111\n",
            "Epoch 25/50\n",
            "1/1 [==============================] - 0s 18ms/step - loss: 3.0057\n",
            "Epoch 26/50\n",
            "1/1 [==============================] - 0s 13ms/step - loss: 3.0000\n",
            "Epoch 27/50\n",
            "1/1 [==============================] - 0s 15ms/step - loss: 2.9941\n",
            "Epoch 28/50\n",
            "1/1 [==============================] - 0s 15ms/step - loss: 2.9878\n",
            "Epoch 29/50\n",
            "1/1 [==============================] - 0s 15ms/step - loss: 2.9813\n",
            "Epoch 30/50\n",
            "1/1 [==============================] - 0s 15ms/step - loss: 2.9745\n",
            "Epoch 31/50\n",
            "1/1 [==============================] - 0s 15ms/step - loss: 2.9674\n",
            "Epoch 32/50\n",
            "1/1 [==============================] - 0s 15ms/step - loss: 2.9599\n",
            "Epoch 33/50\n",
            "1/1 [==============================] - 0s 15ms/step - loss: 2.9521\n",
            "Epoch 34/50\n",
            "1/1 [==============================] - 0s 17ms/step - loss: 2.9439\n",
            "Epoch 35/50\n",
            "1/1 [==============================] - 0s 14ms/step - loss: 2.9353\n",
            "Epoch 36/50\n",
            "1/1 [==============================] - 0s 14ms/step - loss: 2.9263\n",
            "Epoch 37/50\n",
            "1/1 [==============================] - 0s 16ms/step - loss: 2.9169\n",
            "Epoch 38/50\n",
            "1/1 [==============================] - 0s 15ms/step - loss: 2.9071\n",
            "Epoch 39/50\n",
            "1/1 [==============================] - 0s 19ms/step - loss: 2.8968\n",
            "Epoch 40/50\n",
            "1/1 [==============================] - 0s 19ms/step - loss: 2.8860\n",
            "Epoch 41/50\n",
            "1/1 [==============================] - 0s 17ms/step - loss: 2.8748\n",
            "Epoch 42/50\n",
            "1/1 [==============================] - 0s 16ms/step - loss: 2.8630\n",
            "Epoch 43/50\n",
            "1/1 [==============================] - 0s 16ms/step - loss: 2.8507\n",
            "Epoch 44/50\n",
            "1/1 [==============================] - 0s 13ms/step - loss: 2.8379\n",
            "Epoch 45/50\n",
            "1/1 [==============================] - 0s 15ms/step - loss: 2.8245\n",
            "Epoch 46/50\n",
            "1/1 [==============================] - 0s 18ms/step - loss: 2.8105\n",
            "Epoch 47/50\n",
            "1/1 [==============================] - 0s 20ms/step - loss: 2.7959\n",
            "Epoch 48/50\n",
            "1/1 [==============================] - 0s 19ms/step - loss: 2.7806\n",
            "Epoch 49/50\n",
            "1/1 [==============================] - 0s 17ms/step - loss: 2.7647\n",
            "Epoch 50/50\n",
            "1/1 [==============================] - 0s 17ms/step - loss: 2.7481\n"
          ]
        },
        {
          "output_type": "execute_result",
          "data": {
            "text/plain": [
              "<keras.src.callbacks.History at 0x7bf4b623f460>"
            ]
          },
          "metadata": {},
          "execution_count": 18
        }
      ]
    },
    {
      "cell_type": "code",
      "source": [
        "def generate_next_word(seed_text):\n",
        "  seed_sequence=tokenizer(seed_text)\n",
        "  predicted_probabilities=model.predict(seed_sequence)\n",
        "  predicted_index=np.argmax(predicted_probabilities)\n",
        "  predicted_word=tokenizer.get_vocabulary()[predicted_index]\n",
        "  return predicted_word"
      ],
      "metadata": {
        "id": "Suzq22uIGJQa"
      },
      "execution_count": 19,
      "outputs": []
    },
    {
      "cell_type": "code",
      "source": [
        "input_text = \"this\"\n",
        "predicted_word = generate_next_word(input_text)\n",
        "print(f\"Input: '{input_text}', Predicted: '{predicted_word}'\")"
      ],
      "metadata": {
        "outputId": "14f86dce-0731-4c9e-ce8b-afd45f973cfe",
        "colab": {
          "base_uri": "https://localhost:8080/"
        },
        "id": "AJdT3arLGJQb"
      },
      "execution_count": 20,
      "outputs": [
        {
          "output_type": "stream",
          "name": "stdout",
          "text": [
            "1/1 [==============================] - 1s 701ms/step\n",
            "Input: 'this', Predicted: 'is'\n"
          ]
        }
      ]
    }
  ],
  "metadata": {
    "kernelspec": {
      "display_name": "Python 3 (ipykernel)",
      "language": "python",
      "name": "python3"
    },
    "language_info": {
      "codemirror_mode": {
        "name": "ipython",
        "version": 3
      },
      "file_extension": ".py",
      "mimetype": "text/x-python",
      "name": "python",
      "nbconvert_exporter": "python",
      "pygments_lexer": "ipython3",
      "version": "3.9.18"
    },
    "colab": {
      "provenance": []
    }
  },
  "nbformat": 4,
  "nbformat_minor": 0
}