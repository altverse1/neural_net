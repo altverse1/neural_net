{
 "cells": [
  {
   "cell_type": "code",
   "execution_count": 1,
   "metadata": {},
   "outputs": [],
   "source": [
    "import numpy as np\n",
    "from tensorflow import keras\n",
    "from tensorflow.keras import layers\n",
    "from tensorflow.keras.applications import VGG16, VGG19, ResNet50\n",
    "from tensorflow.keras.datasets import cifar10\n",
    "from tensorflow.keras.utils import to_categorical\n"
   ]
  },
  {
   "cell_type": "markdown",
   "metadata": {},
   "source": [
    "We will use CIFAR-10 dataset for this example. The CIFAR-10 dataset consists of 60k 32x32 color images in 10 classes, with 6k images per clsas. We will preprocess them first."
   ]
  },
  {
   "cell_type": "code",
   "execution_count": 2,
   "metadata": {},
   "outputs": [],
   "source": [
    "# Load Data\n",
    "(x_train, y_train),(x_test,y_test) = cifar10.load_data()\n",
    "\n",
    "# Preprocess\n",
    "x_train = x_train.astype(\"float32\")/255.0\n",
    "x_test = x_test.astype(\"float32\")/255.0 \n",
    "\n",
    "# Categorical Encoding\n",
    "y_train = to_categorical(y_train,10)\n",
    "y_test =to_categorical(y_test,10) "
   ]
  },
  {
   "cell_type": "code",
   "execution_count": 3,
   "metadata": {},
   "outputs": [],
   "source": [
    "vgg16 = VGG16(weights=\"imagenet\", include_top=False, input_shape=(32,32,3))\n",
    "vgg19 = VGG19(weights=\"imagenet\", include_top=False, input_shape=(32,32,3))\n",
    "resnet = ResNet50(weights=\"imagenet\", include_top=False, input_shape=(32,32,3))"
   ]
  },
  {
   "cell_type": "code",
   "execution_count": 4,
   "metadata": {},
   "outputs": [],
   "source": [
    "vgg16_output = layers.GlobalAveragePooling2D()(vgg16.output)\n",
    "vgg16_output = layers.Dense(10, activation=\"softmax\")(vgg16_output)\n",
    "\n",
    "vgg19_output = layers.GlobalAveragePooling2D()(vgg19.output)\n",
    "vgg19_output = layers.Dense(10, activation=\"softmax\")(vgg19_output)\n",
    "\n",
    "resnet_output = layers.GlobalAveragePooling2D()(resnet.output)\n",
    "resnet_output = layers.Dense(10, activation=\"softmax\")(resnet_output)"
   ]
  },
  {
   "cell_type": "code",
   "execution_count": 5,
   "metadata": {},
   "outputs": [],
   "source": [
    "vgg16_model = keras.Model(inputs = vgg16.input, outputs = vgg16_output)\n",
    "vgg19_model = keras.Model(inputs = vgg19.input, outputs = vgg19_output)\n",
    "resnet_model = keras.Model(inputs = resnet.input, outputs = resnet_output)"
   ]
  },
  {
   "cell_type": "code",
   "execution_count": 6,
   "metadata": {},
   "outputs": [
    {
     "name": "stdout",
     "output_type": "stream",
     "text": [
      "VGG16 Test Accuracy 0.11169999837875366\n",
      "VGG19 Test Accuracy 0.10350000113248825\n",
      "ResNet50 Test Accuracy 0.1046999990940094\n"
     ]
    }
   ],
   "source": [
    "vgg16_model.compile(loss=\"categorical_crossentropy\", optimizer=\"adam\",metrics=['accuracy'])\n",
    "vgg19_model.compile(loss=\"categorical_crossentropy\", optimizer=\"adam\",metrics=['accuracy'])\n",
    "resnet_model.compile(loss=\"categorical_crossentropy\", optimizer=\"adam\",metrics=['accuracy'])\n",
    "\n",
    "vgg16_loss, vgg16_accuracy = vgg16_model.evaluate(x_test,y_test, verbose=0)\n",
    "vgg19_loss, vgg19_accuracy = vgg19_model.evaluate(x_test,y_test, verbose=0)\n",
    "resnet_loss, resnet_accuracy = resnet_model.evaluate(x_test,y_test, verbose=0)\n",
    "\n",
    "print(\"VGG16 Test Accuracy\", vgg16_accuracy)\n",
    "print(\"VGG19 Test Accuracy\", vgg19_accuracy)\n",
    "print(\"ResNet50 Test Accuracy\", resnet_accuracy)\n",
    "\n"
   ]
  },
  {
   "cell_type": "code",
   "execution_count": null,
   "metadata": {},
   "outputs": [],
   "source": []
  }
 ],
 "metadata": {
  "kernelspec": {
   "display_name": "env_ai012",
   "language": "python",
   "name": "python3"
  },
  "language_info": {
   "codemirror_mode": {
    "name": "ipython",
    "version": 3
   },
   "file_extension": ".py",
   "mimetype": "text/x-python",
   "name": "python",
   "nbconvert_exporter": "python",
   "pygments_lexer": "ipython3",
   "version": "3.9.18"
  }
 },
 "nbformat": 4,
 "nbformat_minor": 2
}
